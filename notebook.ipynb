{
 "cells": [
  {
   "cell_type": "code",
   "execution_count": 1,
   "metadata": {},
   "outputs": [],
   "source": [
    "%load_ext autoreload\n",
    "%autoreload 2"
   ]
  },
  {
   "cell_type": "code",
   "execution_count": 2,
   "metadata": {},
   "outputs": [],
   "source": [
    "# Utilities\n",
    "import re\n",
    "import os\n",
    "# Preprocessing\n",
    "from html import unescape\n",
    "from fuzzywuzzy import fuzz\n",
    "# Data management\n",
    "import numpy as np\n",
    "import pandas as pd\n",
    "import seaborn as sns\n",
    "import matplotlib.pyplot as plt\n",
    "sns.set(style=\"whitegrid\")\n",
    "%matplotlib inline"
   ]
  },
  {
   "cell_type": "code",
   "execution_count": 152,
   "metadata": {},
   "outputs": [],
   "source": [
    "df = pd.read_csv(\"./data/book.txt\", \n",
    "                   sep='\\t', \n",
    "                   lineterminator='\\n', \n",
    "                   header=None, \n",
    "                   names=[\"source\", \"isbn\", \"title\", \"authors\"])"
   ]
  },
  {
   "cell_type": "code",
   "execution_count": 4,
   "metadata": {
    "scrolled": true
   },
   "outputs": [
    {
     "data": {
      "text/html": [
       "<div>\n",
       "<style scoped>\n",
       "    .dataframe tbody tr th:only-of-type {\n",
       "        vertical-align: middle;\n",
       "    }\n",
       "\n",
       "    .dataframe tbody tr th {\n",
       "        vertical-align: top;\n",
       "    }\n",
       "\n",
       "    .dataframe thead th {\n",
       "        text-align: right;\n",
       "    }\n",
       "</style>\n",
       "<table border=\"1\" class=\"dataframe\">\n",
       "  <thead>\n",
       "    <tr style=\"text-align: right;\">\n",
       "      <th></th>\n",
       "      <th>source</th>\n",
       "      <th>isbn</th>\n",
       "      <th>title</th>\n",
       "      <th>authors</th>\n",
       "    </tr>\n",
       "  </thead>\n",
       "  <tbody>\n",
       "    <tr>\n",
       "      <th>0</th>\n",
       "      <td>eCampus.com</td>\n",
       "      <td>0201853949</td>\n",
       "      <td>The art Of Computer Programming, Fascicle 3: G...</td>\n",
       "      <td>Not Available\\r</td>\n",
       "    </tr>\n",
       "    <tr>\n",
       "      <th>1</th>\n",
       "      <td>Indoo.com</td>\n",
       "      <td>0201853949</td>\n",
       "      <td>Art of Computer Programming, Volume 4, Fascicl...</td>\n",
       "      <td>Knuth, Donald E.\\r</td>\n",
       "    </tr>\n",
       "    <tr>\n",
       "      <th>2</th>\n",
       "      <td>textbookxdotcom</td>\n",
       "      <td>0201853949</td>\n",
       "      <td>The 'art Of Computer Programming, Fascicle 3 G...</td>\n",
       "      <td>\\r</td>\n",
       "    </tr>\n",
       "    <tr>\n",
       "      <th>3</th>\n",
       "      <td>A1Books</td>\n",
       "      <td>0201853949</td>\n",
       "      <td>The Art of Computer Programming, Volume 4, Fas...</td>\n",
       "      <td>Knuth, Donald E.\\r</td>\n",
       "    </tr>\n",
       "    <tr>\n",
       "      <th>4</th>\n",
       "      <td>textbooksNow</td>\n",
       "      <td>0201853949</td>\n",
       "      <td>Art of Computer Programming</td>\n",
       "      <td>Knuth\\r</td>\n",
       "    </tr>\n",
       "  </tbody>\n",
       "</table>\n",
       "</div>"
      ],
      "text/plain": [
       "            source        isbn  \\\n",
       "0      eCampus.com  0201853949   \n",
       "1        Indoo.com  0201853949   \n",
       "2  textbookxdotcom  0201853949   \n",
       "3          A1Books  0201853949   \n",
       "4     textbooksNow  0201853949   \n",
       "\n",
       "                                               title             authors  \n",
       "0  The art Of Computer Programming, Fascicle 3: G...     Not Available\\r  \n",
       "1  Art of Computer Programming, Volume 4, Fascicl...  Knuth, Donald E.\\r  \n",
       "2  The 'art Of Computer Programming, Fascicle 3 G...                  \\r  \n",
       "3  The Art of Computer Programming, Volume 4, Fas...  Knuth, Donald E.\\r  \n",
       "4                        Art of Computer Programming             Knuth\\r  "
      ]
     },
     "execution_count": 4,
     "metadata": {},
     "output_type": "execute_result"
    }
   ],
   "source": [
    "df.head()"
   ]
  },
  {
   "cell_type": "code",
   "execution_count": 154,
   "metadata": {},
   "outputs": [
    {
     "data": {
      "text/html": [
       "<div>\n",
       "<style scoped>\n",
       "    .dataframe tbody tr th:only-of-type {\n",
       "        vertical-align: middle;\n",
       "    }\n",
       "\n",
       "    .dataframe tbody tr th {\n",
       "        vertical-align: top;\n",
       "    }\n",
       "\n",
       "    .dataframe thead th {\n",
       "        text-align: right;\n",
       "    }\n",
       "</style>\n",
       "<table border=\"1\" class=\"dataframe\">\n",
       "  <thead>\n",
       "    <tr style=\"text-align: right;\">\n",
       "      <th></th>\n",
       "      <th>source</th>\n",
       "      <th>isbn</th>\n",
       "      <th>title</th>\n",
       "      <th>authors</th>\n",
       "    </tr>\n",
       "  </thead>\n",
       "  <tbody>\n",
       "    <tr>\n",
       "      <th>count</th>\n",
       "      <td>33971</td>\n",
       "      <td>33971</td>\n",
       "      <td>33968</td>\n",
       "      <td>33971</td>\n",
       "    </tr>\n",
       "    <tr>\n",
       "      <th>unique</th>\n",
       "      <td>895</td>\n",
       "      <td>1265</td>\n",
       "      <td>11095</td>\n",
       "      <td>9627</td>\n",
       "    </tr>\n",
       "    <tr>\n",
       "      <th>top</th>\n",
       "      <td>A1Books</td>\n",
       "      <td>0321263588</td>\n",
       "      <td>Modern Database Management</td>\n",
       "      <td>\\r</td>\n",
       "    </tr>\n",
       "    <tr>\n",
       "      <th>freq</th>\n",
       "      <td>2403</td>\n",
       "      <td>159</td>\n",
       "      <td>90</td>\n",
       "      <td>713</td>\n",
       "    </tr>\n",
       "  </tbody>\n",
       "</table>\n",
       "</div>"
      ],
      "text/plain": [
       "         source        isbn                       title authors\n",
       "count     33971       33971                       33968   33971\n",
       "unique      895        1265                       11095    9627\n",
       "top     A1Books  0321263588  Modern Database Management      \\r\n",
       "freq       2403         159                          90     713"
      ]
     },
     "execution_count": 154,
     "metadata": {},
     "output_type": "execute_result"
    }
   ],
   "source": [
    "df.describe()"
   ]
  },
  {
   "cell_type": "markdown",
   "metadata": {},
   "source": [
    "# Preprocessing"
   ]
  },
  {
   "cell_type": "code",
   "execution_count": 6,
   "metadata": {},
   "outputs": [],
   "source": [
    "def clean(df, gs=False):\n",
    "    if gs:\n",
    "        df[\"authors\"] = df[\"authors\"].str.lower()\n",
    "        df[\"authors\"] = df[\"authors\"].str.replace('[^\\w\\s]|\\\\r','')\n",
    "        df.authors = df.authors.replace('\\s+', ' ', regex=True)\n",
    "        #df.authors = df.authors.replace(r'\\b\\w\\b', ' ', regex=True)\n",
    " \n",
    "        df['authors'] = df['authors'].str.strip()\n",
    "    else:\n",
    "        # Unescape HTML left over from scraping\n",
    "        df.authors = df.authors.apply(unescape)\n",
    "        df.title = df.title.apply(lambda x: unescape(str(x)))\n",
    "        # Lowercase \n",
    "        df[\"authors\"] = df[\"authors\"].str.lower()\n",
    "        df[\"title\"] = df[\"title\"].str.lower()\n",
    "        df[\"source\"] = df[\"source\"].str.lower()\n",
    "        # Removes parenthesis from author list\n",
    "        df[\"authors\"] = df[\"authors\"].str.replace('\\((.*?)\\)','')\n",
    "        # Replaces | in author list with spaces\n",
    "        df[\"authors\"] = df[\"authors\"].str.replace('\\|',' ')\n",
    "        # Special characters removal (removes all special characters left)\n",
    "        df[\"title\"] = df[\"title\"].str.replace('[^\\w\\s]|\\\\r','')\n",
    "        df[\"authors\"] = df[\"authors\"].str.replace('[^\\w\\s]|\\\\r','')\n",
    "        # Remove numbers from authors\n",
    "        df['authors'] = df['authors'].str.replace('\\d+', '')\n",
    "        # Uniformize missing values\n",
    "        df[\"authors\"] = df[\"authors\"].str.replace('not available','')\n",
    "        df[\"authors\"] = df[\"authors\"].replace(r'^\\s*$', np.nan, regex=True)\n",
    "        # Remove doubled whitespaces\n",
    "        df.authors = df.authors.replace('\\s+', ' ', regex=True)\n",
    "        df.title = df.title.replace('\\s+', ' ', regex=True)\n",
    "        # Remove trailing spaces\n",
    "        df.authors = df.authors.str.strip()\n",
    "        # Remove single characters in authors names\n",
    "        #df.authors = df.authors.replace(r'\\b\\w\\b', ' ', regex=True)"
   ]
  },
  {
   "cell_type": "code",
   "execution_count": 155,
   "metadata": {},
   "outputs": [],
   "source": [
    "clean(df)"
   ]
  },
  {
   "cell_type": "code",
   "execution_count": 157,
   "metadata": {
    "scrolled": false
   },
   "outputs": [
    {
     "name": "stdout",
     "output_type": "stream",
     "text": [
      "\\begin{tabular}{lllll}\n",
      "\\toprule\n",
      "{} &   source &        isbn &                                 title &       authors \\\\\n",
      "\\midrule\n",
      "count  &    33971 &       33971 &                                 33971 &         33172 \\\\\n",
      "unique &      894 &        1265 &                                  7195 &          6901 \\\\\n",
      "top    &  a1books &  0321263588 &  computer networking and the internet &  meyers scott \\\\\n",
      "freq   &     2403 &         159 &                                   108 &           136 \\\\\n",
      "\\bottomrule\n",
      "\\end{tabular}\n",
      "\n"
     ]
    }
   ],
   "source": [
    "print(df.describe().to_latex())"
   ]
  },
  {
   "cell_type": "code",
   "execution_count": 9,
   "metadata": {},
   "outputs": [
    {
     "data": {
      "text/plain": [
       "7557"
      ]
     },
     "execution_count": 9,
     "metadata": {},
     "output_type": "execute_result"
    }
   ],
   "source": [
    "sum(df.duplicated())"
   ]
  },
  {
   "cell_type": "code",
   "execution_count": 10,
   "metadata": {},
   "outputs": [],
   "source": [
    "df = df.drop_duplicates()"
   ]
  },
  {
   "cell_type": "markdown",
   "metadata": {},
   "source": [
    "# Data Quality Metrics"
   ]
  },
  {
   "cell_type": "code",
   "execution_count": 11,
   "metadata": {},
   "outputs": [
    {
     "data": {
      "text/html": [
       "<div>\n",
       "<style scoped>\n",
       "    .dataframe tbody tr th:only-of-type {\n",
       "        vertical-align: middle;\n",
       "    }\n",
       "\n",
       "    .dataframe tbody tr th {\n",
       "        vertical-align: top;\n",
       "    }\n",
       "\n",
       "    .dataframe thead th {\n",
       "        text-align: right;\n",
       "    }\n",
       "</style>\n",
       "<table border=\"1\" class=\"dataframe\">\n",
       "  <thead>\n",
       "    <tr style=\"text-align: right;\">\n",
       "      <th></th>\n",
       "      <th>isbn</th>\n",
       "      <th>authors</th>\n",
       "    </tr>\n",
       "  </thead>\n",
       "  <tbody>\n",
       "    <tr>\n",
       "      <th>0</th>\n",
       "      <td>9780073516677</td>\n",
       "      <td>oleary timothy j oleary linda i</td>\n",
       "    </tr>\n",
       "    <tr>\n",
       "      <th>1</th>\n",
       "      <td>9780072999389</td>\n",
       "      <td>yacht carol crosson susan</td>\n",
       "    </tr>\n",
       "    <tr>\n",
       "      <th>2</th>\n",
       "      <td>9780072922363</td>\n",
       "      <td>hutton david v</td>\n",
       "    </tr>\n",
       "    <tr>\n",
       "      <th>3</th>\n",
       "      <td>9780072843996</td>\n",
       "      <td>haag stephen perry james t sosinsky barrie est...</td>\n",
       "    </tr>\n",
       "    <tr>\n",
       "      <th>4</th>\n",
       "      <td>9780072466850</td>\n",
       "      <td>reddy j n</td>\n",
       "    </tr>\n",
       "    <tr>\n",
       "      <th>...</th>\n",
       "      <td>...</td>\n",
       "      <td>...</td>\n",
       "    </tr>\n",
       "    <tr>\n",
       "      <th>95</th>\n",
       "      <td>0122290631</td>\n",
       "      <td>eberly david h</td>\n",
       "    </tr>\n",
       "    <tr>\n",
       "      <th>96</th>\n",
       "      <td>0120887975</td>\n",
       "      <td>celko joe</td>\n",
       "    </tr>\n",
       "    <tr>\n",
       "      <th>97</th>\n",
       "      <td>0120455994</td>\n",
       "      <td>aiken peter allen m david</td>\n",
       "    </tr>\n",
       "    <tr>\n",
       "      <th>98</th>\n",
       "      <td>1555581994</td>\n",
       "      <td>cheek matthew</td>\n",
       "    </tr>\n",
       "    <tr>\n",
       "      <th>99</th>\n",
       "      <td>1555582745</td>\n",
       "      <td>moore martin hancock steven</td>\n",
       "    </tr>\n",
       "  </tbody>\n",
       "</table>\n",
       "<p>100 rows × 2 columns</p>\n",
       "</div>"
      ],
      "text/plain": [
       "             isbn                                            authors\n",
       "0   9780073516677                    oleary timothy j oleary linda i\n",
       "1   9780072999389                          yacht carol crosson susan\n",
       "2   9780072922363                                     hutton david v\n",
       "3   9780072843996  haag stephen perry james t sosinsky barrie est...\n",
       "4   9780072466850                                          reddy j n\n",
       "..            ...                                                ...\n",
       "95     0122290631                                     eberly david h\n",
       "96     0120887975                                          celko joe\n",
       "97     0120455994                          aiken peter allen m david\n",
       "98     1555581994                                      cheek matthew\n",
       "99     1555582745                        moore martin hancock steven\n",
       "\n",
       "[100 rows x 2 columns]"
      ]
     },
     "execution_count": 11,
     "metadata": {},
     "output_type": "execute_result"
    }
   ],
   "source": [
    "# Unique sources\n",
    "sources = df.source.unique()\n",
    "\n",
    "gs = pd.read_csv(\"./data/book_golden.txt\", \n",
    "                   sep='\\t', \n",
    "                   lineterminator='\\n', \n",
    "                   header=None, \n",
    "                   names=[\"isbn\", \"authors\"])\n",
    "clean(gs, gs=True)\n",
    "gs"
   ]
  },
  {
   "cell_type": "markdown",
   "metadata": {},
   "source": [
    "### Completeness\n",
    "Attribute/Table completeness\n",
    "\n",
    "NOTE: Closed World assumption"
   ]
  },
  {
   "cell_type": "code",
   "execution_count": 12,
   "metadata": {},
   "outputs": [
    {
     "data": {
      "text/plain": [
       "source       0\n",
       "isbn         0\n",
       "title        0\n",
       "authors    649\n",
       "dtype: int64"
      ]
     },
     "execution_count": 12,
     "metadata": {},
     "output_type": "execute_result"
    }
   ],
   "source": [
    "# Null values\n",
    "null_count = df.isnull().sum()\n",
    "null_count"
   ]
  },
  {
   "cell_type": "code",
   "execution_count": 13,
   "metadata": {},
   "outputs": [
    {
     "data": {
      "text/html": [
       "<div>\n",
       "<style scoped>\n",
       "    .dataframe tbody tr th:only-of-type {\n",
       "        vertical-align: middle;\n",
       "    }\n",
       "\n",
       "    .dataframe tbody tr th {\n",
       "        vertical-align: top;\n",
       "    }\n",
       "\n",
       "    .dataframe thead th {\n",
       "        text-align: right;\n",
       "    }\n",
       "</style>\n",
       "<table border=\"1\" class=\"dataframe\">\n",
       "  <thead>\n",
       "    <tr style=\"text-align: right;\">\n",
       "      <th></th>\n",
       "      <th>source</th>\n",
       "      <th>isbn</th>\n",
       "      <th>title</th>\n",
       "      <th>authors</th>\n",
       "    </tr>\n",
       "  </thead>\n",
       "  <tbody>\n",
       "    <tr>\n",
       "      <th>0</th>\n",
       "      <td>1.0</td>\n",
       "      <td>1.0</td>\n",
       "      <td>1.0</td>\n",
       "      <td>0.97543</td>\n",
       "    </tr>\n",
       "  </tbody>\n",
       "</table>\n",
       "</div>"
      ],
      "text/plain": [
       "   source  isbn  title  authors\n",
       "0     1.0   1.0    1.0  0.97543"
      ]
     },
     "execution_count": 13,
     "metadata": {},
     "output_type": "execute_result"
    }
   ],
   "source": [
    "# Attribute completeness\n",
    "rows = df.shape[0]\n",
    "attributes = list(df)\n",
    "attribute_compl = {}\n",
    "\n",
    "for attribute in attributes:\n",
    "    attribute_compl[attribute] = 1 - (null_count[attribute] / rows)\n",
    "\n",
    "attribute_compl = pd.DataFrame([attribute_compl])\n",
    "attribute_compl"
   ]
  },
  {
   "cell_type": "code",
   "execution_count": 14,
   "metadata": {},
   "outputs": [
    {
     "name": "stdout",
     "output_type": "stream",
     "text": [
      "0.9938574240932838\n"
     ]
    }
   ],
   "source": [
    "# Table completeness\n",
    "table_compl = 1 - (null_count.sum() / (len(attributes)*rows))\n",
    "print(table_compl)"
   ]
  },
  {
   "cell_type": "markdown",
   "metadata": {},
   "source": [
    "### Accuracy (TO SKIP)\n",
    "Accuracy is computed on the TruthFinder elements\n",
    "For each source, matching of ISBN and authors list to Golden Standard"
   ]
  },
  {
   "cell_type": "code",
   "execution_count": 15,
   "metadata": {},
   "outputs": [],
   "source": [
    "def compute_accuracy(source, gs):\n",
    "    # Computes source accuracy by matching the golden standard rows to the source df, \n",
    "    # computing ISBN and Authors accuracy\n",
    "        \n",
    "    isbn_match_count = 0\n",
    "    authors_match_count = 0\n",
    "    authors_match_percentage = 0\n",
    "    \n",
    "    for gs_isbn, gs_authors in zip(gs.isbn, gs.authors):\n",
    "        select = source[source.isbn == gs_isbn]\n",
    "        select = select.dropna()\n",
    "        if not select.empty:\n",
    "            isbn_match_count += 1\n",
    "            for authors in select.authors:\n",
    "                tokens = authors.split()\n",
    "                gs_tokens = gs_authors.split()\n",
    "                match = fuzz.token_sort_ratio(tokens, gs_tokens)\n",
    "                authors_match_percentage += match\n",
    "                authors_match_count += 1\n",
    "                \n",
    "    acc = {\n",
    "        \"isbn\": isbn_match_count/len(source.isbn),\n",
    "        \"authors\": authors_match_percentage/authors_match_count\n",
    "    }\n",
    "    \n",
    "    return acc"
   ]
  },
  {
   "cell_type": "code",
   "execution_count": 16,
   "metadata": {
    "scrolled": false
   },
   "outputs": [
    {
     "name": "stdout",
     "output_type": "stream",
     "text": [
      "Couldn't find program: 'False'\n"
     ]
    }
   ],
   "source": [
    "%%script False\n",
    "\n",
    "source_accuracy = []\n",
    "\n",
    "if not os.path.exists(\"./data/results/source_accuracy.csv\"):\n",
    "    for source in sources:\n",
    "        selected_source = df[df.source == source]\n",
    "        acc = compute_accuracy(df, gs)\n",
    "        acc[\"source\"] = source\n",
    "        source_accuracy.append(acc)\n",
    "    \n",
    "    with open('./data/results/source_accuracy.csv', 'w') as f:\n",
    "        f.write(\"{}; {}; {}\".format(\"source\", \n",
    "                                    \"isbn coverage\", \n",
    "                                    \"authors accuracy\"))\n",
    "        for e in source_accuracy:\n",
    "            f.write(\"{}; {}; {}\".format(e[\"source\"], \n",
    "                                        e[\"isbn\"], \n",
    "                                        e[\"authors\"]))\n",
    "else:\n",
    "    source_accuracy = pd.read_csv(\"./data/results/source_accuracy.csv\", \n",
    "                   header=[\"source\", \"isbn coverage\", \"authors accuracy\"])\n"
   ]
  },
  {
   "cell_type": "markdown",
   "metadata": {},
   "source": [
    "### Coverage\n",
    "How much data of the dataset each source covers"
   ]
  },
  {
   "cell_type": "code",
   "execution_count": 17,
   "metadata": {
    "scrolled": true
   },
   "outputs": [],
   "source": [
    "source_coverage = {}\n",
    "unique_isbn = len(df.isbn.unique())\n",
    "\n",
    "if not os.path.exists(\"./data/results/source_coverage.csv\"):\n",
    "    \n",
    "    for source in sources:\n",
    "        selected_source = df[df.source == source]\n",
    "        source_coverage[source] = len(selected_source.isbn.unique()) / unique_isbn\n",
    "    with open('./data/results/source_coverage.csv', 'w') as f:\n",
    "            f.write(\"{};{}\\n\".format(\"source\",\"coverage\"))\n",
    "            for key, value in source_coverage.items():\n",
    "                f.write(\"{}; {}\\n\".format(key, value))\n",
    "                \n",
    "else:\n",
    "    source_coverage = pd.read_csv(\"data/results/source_coverage.csv\", sep=\";\")"
   ]
  },
  {
   "cell_type": "code",
   "execution_count": 18,
   "metadata": {},
   "outputs": [
    {
     "data": {
      "text/plain": [
       "<matplotlib.legend.Legend at 0x19447ef4ec8>"
      ]
     },
     "execution_count": 18,
     "metadata": {},
     "output_type": "execute_result"
    },
    {
     "data": {
      "image/png": "[encoded data removed]",
      "text/plain": [
       "<Figure size 432x288 with 1 Axes>"
      ]
     },
     "metadata": {
      "needs_background": "light"
     },
     "output_type": "display_data"
    }
   ],
   "source": [
    "source_coverage = pd.DataFrame(source_coverage)\n",
    "\n",
    "ax = sns.distplot(source_coverage.coverage, hist=False);\n",
    "ax.axvline(source_coverage.coverage.mean(), color='g')\n",
    "plt.legend({'mean coverage': source_coverage.coverage.mean()})"
   ]
  },
  {
   "cell_type": "code",
   "execution_count": 19,
   "metadata": {},
   "outputs": [
    {
     "data": {
      "text/plain": [
       "0.021946043451733555"
      ]
     },
     "execution_count": 19,
     "metadata": {},
     "output_type": "execute_result"
    }
   ],
   "source": [
    "source_coverage.coverage.mean()"
   ]
  },
  {
   "cell_type": "code",
   "execution_count": 20,
   "metadata": {
    "scrolled": false
   },
   "outputs": [
    {
     "data": {
      "image/png": "[encoded data removed]",
      "text/plain": [
       "<Figure size 720x288 with 2 Axes>"
      ]
     },
     "metadata": {
      "needs_background": "light"
     },
     "output_type": "display_data"
    }
   ],
   "source": [
    "top_cover = source_coverage.nlargest(10, \"coverage\")\n",
    "worst_cover = source_coverage.nsmallest(10, \"coverage\")\n",
    "\n",
    "worst_cover.source = worst_cover.source.apply(lambda x:  x[:20])\n",
    "\n",
    "fig = plt.figure(figsize=(10,4))\n",
    "plt.subplot(1, 2, 1)\n",
    "ax = sns.barplot(data=top_cover, x=\"coverage\", y=\"source\")\n",
    "\n",
    "plt.title('Top 10')\n",
    "\n",
    "plt.subplot(1, 2, 2)\n",
    "ax = sns.barplot(data=worst_cover, x=\"coverage\", y=\"source\")\n",
    "plt.title('Bottom 10')\n",
    "\n",
    "fig.subplots_adjust(wspace=0.85)\n",
    "plt.show()"
   ]
  },
  {
   "cell_type": "code",
   "execution_count": 21,
   "metadata": {},
   "outputs": [],
   "source": [
    "# Final cleaning step, drop NaN rows\n",
    "df = df.dropna()"
   ]
  },
  {
   "cell_type": "markdown",
   "metadata": {},
   "source": [
    "# Data Fusion"
   ]
  },
  {
   "cell_type": "markdown",
   "metadata": {},
   "source": [
    "## TruthFinder implementation"
   ]
  },
  {
   "cell_type": "code",
   "execution_count": 22,
   "metadata": {},
   "outputs": [
    {
     "name": "stdout",
     "output_type": "stream",
     "text": [
      "Couldn't find program: 'False'\n"
     ]
    }
   ],
   "source": [
    "%%script False\n",
    "# TODO: Add cosine similarity with TFIDF vectors\n",
    "\n",
    "from sklearn.feature_extraction.text import TfidfVectorizer\n",
    "from sklearn.metrics.pairwise import linear_kernel\n",
    "tfidf = TfidfVectorizer(min_df=1).fit_transform(df[\"authors\"])\n",
    "\n",
    "# Finds similarity of first vector compared to every other, see \n",
    "# https://stackoverflow.com/questions/12118720/python-tf-idf-cosine-to-find-document-similarity\n",
    "cosine_similarities = linear_kernel(tfidf[0:1], tfidf).flatten()\n",
    "related_docs_indices = cosine_similarities.argsort()[:-5:-1]\n",
    "related_docs_indices"
   ]
  },
  {
   "cell_type": "code",
   "execution_count": 23,
   "metadata": {},
   "outputs": [],
   "source": [
    "from truthfinder import TruthFinder"
   ]
  },
  {
   "cell_type": "code",
   "execution_count": 24,
   "metadata": {},
   "outputs": [],
   "source": [
    "finder = TruthFinder(df.copy(), \n",
    "                     fact=\"authors\", \n",
    "                     obj=\"isbn\")\n",
    "\n",
    "result = finder.compute()"
   ]
  },
  {
   "cell_type": "code",
   "execution_count": 25,
   "metadata": {},
   "outputs": [],
   "source": [
    "# Saving results\n",
    "result.to_csv(\"./data/results/truth.csv\", index=False)\n",
    "finder.df.to_csv(\"./data/results/complete.csv\", index=False)"
   ]
  },
  {
   "cell_type": "code",
   "execution_count": 27,
   "metadata": {},
   "outputs": [
    {
     "data": {
      "text/html": [
       "<div>\n",
       "<style scoped>\n",
       "    .dataframe tbody tr th:only-of-type {\n",
       "        vertical-align: middle;\n",
       "    }\n",
       "\n",
       "    .dataframe tbody tr th {\n",
       "        vertical-align: top;\n",
       "    }\n",
       "\n",
       "    .dataframe thead th {\n",
       "        text-align: right;\n",
       "    }\n",
       "</style>\n",
       "<table border=\"1\" class=\"dataframe\">\n",
       "  <thead>\n",
       "    <tr style=\"text-align: right;\">\n",
       "      <th></th>\n",
       "      <th>source</th>\n",
       "      <th>isbn</th>\n",
       "      <th>title</th>\n",
       "      <th>authors</th>\n",
       "      <th>trust</th>\n",
       "      <th>confidence</th>\n",
       "    </tr>\n",
       "  </thead>\n",
       "  <tbody>\n",
       "    <tr>\n",
       "      <th>33308</th>\n",
       "      <td>textbooksnow</td>\n",
       "      <td>0131420445</td>\n",
       "      <td>mips assembly language programming</td>\n",
       "      <td>britton</td>\n",
       "      <td>0.750440</td>\n",
       "      <td>0.717572</td>\n",
       "    </tr>\n",
       "    <tr>\n",
       "      <th>33317</th>\n",
       "      <td>sandy chong</td>\n",
       "      <td>0131420445</td>\n",
       "      <td>mips assembly language programming</td>\n",
       "      <td>britton robert l</td>\n",
       "      <td>0.915032</td>\n",
       "      <td>0.864479</td>\n",
       "    </tr>\n",
       "    <tr>\n",
       "      <th>33320</th>\n",
       "      <td>englishbookservice.com gti gmbh</td>\n",
       "      <td>0131420445</td>\n",
       "      <td>mips assembly language programming</td>\n",
       "      <td>britton robert l</td>\n",
       "      <td>0.968321</td>\n",
       "      <td>0.864479</td>\n",
       "    </tr>\n",
       "    <tr>\n",
       "      <th>33313</th>\n",
       "      <td>textbookxdotcom</td>\n",
       "      <td>0131420445</td>\n",
       "      <td>mips assembly language programming</td>\n",
       "      <td>robert britton</td>\n",
       "      <td>0.829355</td>\n",
       "      <td>0.874795</td>\n",
       "    </tr>\n",
       "    <tr>\n",
       "      <th>33315</th>\n",
       "      <td>odeon books</td>\n",
       "      <td>0131420445</td>\n",
       "      <td>mips assembly language programming</td>\n",
       "      <td>robert britton</td>\n",
       "      <td>0.967136</td>\n",
       "      <td>0.874795</td>\n",
       "    </tr>\n",
       "    <tr>\n",
       "      <th>33316</th>\n",
       "      <td>papamedia.com</td>\n",
       "      <td>0131420445</td>\n",
       "      <td>mips assembly language programming</td>\n",
       "      <td>robert britton</td>\n",
       "      <td>0.873361</td>\n",
       "      <td>0.874795</td>\n",
       "    </tr>\n",
       "    <tr>\n",
       "      <th>33310</th>\n",
       "      <td>indoo.com</td>\n",
       "      <td>0131420445</td>\n",
       "      <td>mips assembly language programming</td>\n",
       "      <td>britton robert</td>\n",
       "      <td>0.899343</td>\n",
       "      <td>0.920206</td>\n",
       "    </tr>\n",
       "    <tr>\n",
       "      <th>33311</th>\n",
       "      <td>a1books</td>\n",
       "      <td>0131420445</td>\n",
       "      <td>mips assembly language programming</td>\n",
       "      <td>britton robert</td>\n",
       "      <td>0.910781</td>\n",
       "      <td>0.920206</td>\n",
       "    </tr>\n",
       "    <tr>\n",
       "      <th>33312</th>\n",
       "      <td>caiman</td>\n",
       "      <td>0131420445</td>\n",
       "      <td>mips assembly language program</td>\n",
       "      <td>britton robert</td>\n",
       "      <td>0.899617</td>\n",
       "      <td>0.920206</td>\n",
       "    </tr>\n",
       "    <tr>\n",
       "      <th>33314</th>\n",
       "      <td>books2anywhere.com</td>\n",
       "      <td>0131420445</td>\n",
       "      <td>mips assembly language programming</td>\n",
       "      <td>britton robert</td>\n",
       "      <td>0.958828</td>\n",
       "      <td>0.920206</td>\n",
       "    </tr>\n",
       "    <tr>\n",
       "      <th>33319</th>\n",
       "      <td>revaluation books</td>\n",
       "      <td>0131420445</td>\n",
       "      <td>mips assembly language programming</td>\n",
       "      <td>britton robert</td>\n",
       "      <td>0.923746</td>\n",
       "      <td>0.920206</td>\n",
       "    </tr>\n",
       "  </tbody>\n",
       "</table>\n",
       "</div>"
      ],
      "text/plain": [
       "                                source        isbn  \\\n",
       "33308                     textbooksnow  0131420445   \n",
       "33317                      sandy chong  0131420445   \n",
       "33320  englishbookservice.com gti gmbh  0131420445   \n",
       "33313                  textbookxdotcom  0131420445   \n",
       "33315                      odeon books  0131420445   \n",
       "33316                    papamedia.com  0131420445   \n",
       "33310                        indoo.com  0131420445   \n",
       "33311                          a1books  0131420445   \n",
       "33312                           caiman  0131420445   \n",
       "33314               books2anywhere.com  0131420445   \n",
       "33319                revaluation books  0131420445   \n",
       "\n",
       "                                    title           authors     trust  \\\n",
       "33308  mips assembly language programming           britton  0.750440   \n",
       "33317  mips assembly language programming  britton robert l  0.915032   \n",
       "33320  mips assembly language programming  britton robert l  0.968321   \n",
       "33313  mips assembly language programming    robert britton  0.829355   \n",
       "33315  mips assembly language programming    robert britton  0.967136   \n",
       "33316  mips assembly language programming    robert britton  0.873361   \n",
       "33310  mips assembly language programming    britton robert  0.899343   \n",
       "33311  mips assembly language programming    britton robert  0.910781   \n",
       "33312      mips assembly language program    britton robert  0.899617   \n",
       "33314  mips assembly language programming    britton robert  0.958828   \n",
       "33319  mips assembly language programming    britton robert  0.923746   \n",
       "\n",
       "       confidence  \n",
       "33308    0.717572  \n",
       "33317    0.864479  \n",
       "33320    0.864479  \n",
       "33313    0.874795  \n",
       "33315    0.874795  \n",
       "33316    0.874795  \n",
       "33310    0.920206  \n",
       "33311    0.920206  \n",
       "33312    0.920206  \n",
       "33314    0.920206  \n",
       "33319    0.920206  "
      ]
     },
     "execution_count": 27,
     "metadata": {},
     "output_type": "execute_result"
    }
   ],
   "source": [
    "sl = finder.df[finder.df[\"isbn\"] == \"0131420445\"].sort_values(\"confidence\")\n",
    "sl"
   ]
  },
  {
   "cell_type": "code",
   "execution_count": 28,
   "metadata": {
    "scrolled": true
   },
   "outputs": [
    {
     "data": {
      "text/html": [
       "<div>\n",
       "<style scoped>\n",
       "    .dataframe tbody tr th:only-of-type {\n",
       "        vertical-align: middle;\n",
       "    }\n",
       "\n",
       "    .dataframe tbody tr th {\n",
       "        vertical-align: top;\n",
       "    }\n",
       "\n",
       "    .dataframe thead th {\n",
       "        text-align: right;\n",
       "    }\n",
       "</style>\n",
       "<table border=\"1\" class=\"dataframe\">\n",
       "  <thead>\n",
       "    <tr style=\"text-align: right;\">\n",
       "      <th></th>\n",
       "      <th>source</th>\n",
       "      <th>isbn</th>\n",
       "      <th>title</th>\n",
       "      <th>authors</th>\n",
       "      <th>trust</th>\n",
       "      <th>confidence</th>\n",
       "    </tr>\n",
       "  </thead>\n",
       "  <tbody>\n",
       "    <tr>\n",
       "      <th>17931</th>\n",
       "      <td>textbookxdotcom</td>\n",
       "      <td>9780073516677</td>\n",
       "      <td>computing essentials</td>\n",
       "      <td>oleary timothy j oleary linda i</td>\n",
       "      <td>0.829355</td>\n",
       "      <td>0.965856</td>\n",
       "    </tr>\n",
       "    <tr>\n",
       "      <th>17938</th>\n",
       "      <td>revaluation books</td>\n",
       "      <td>9780073516677</td>\n",
       "      <td>computing essentials 2007 complete edition</td>\n",
       "      <td>oleary timothy j oleary linda i</td>\n",
       "      <td>0.923746</td>\n",
       "      <td>0.965856</td>\n",
       "    </tr>\n",
       "    <tr>\n",
       "      <th>17922</th>\n",
       "      <td>collegebooksdirect.com</td>\n",
       "      <td>9780073516677</td>\n",
       "      <td>computing essentials</td>\n",
       "      <td>oleary timothy j oleary linda i</td>\n",
       "      <td>0.935860</td>\n",
       "      <td>0.965856</td>\n",
       "    </tr>\n",
       "    <tr>\n",
       "      <th>17932</th>\n",
       "      <td>caiman</td>\n",
       "      <td>9780073516677</td>\n",
       "      <td>computing essentials 2007</td>\n",
       "      <td>oleary timothy j oleary linda i</td>\n",
       "      <td>0.899617</td>\n",
       "      <td>0.965856</td>\n",
       "    </tr>\n",
       "  </tbody>\n",
       "</table>\n",
       "</div>"
      ],
      "text/plain": [
       "                       source           isbn  \\\n",
       "17931         textbookxdotcom  9780073516677   \n",
       "17938       revaluation books  9780073516677   \n",
       "17922  collegebooksdirect.com  9780073516677   \n",
       "17932                  caiman  9780073516677   \n",
       "\n",
       "                                            title  \\\n",
       "17931                        computing essentials   \n",
       "17938  computing essentials 2007 complete edition   \n",
       "17922                        computing essentials   \n",
       "17932                   computing essentials 2007   \n",
       "\n",
       "                               authors     trust  confidence  \n",
       "17931  oleary timothy j oleary linda i  0.829355    0.965856  \n",
       "17938  oleary timothy j oleary linda i  0.923746    0.965856  \n",
       "17922  oleary timothy j oleary linda i  0.935860    0.965856  \n",
       "17932  oleary timothy j oleary linda i  0.899617    0.965856  "
      ]
     },
     "execution_count": 28,
     "metadata": {},
     "output_type": "execute_result"
    }
   ],
   "source": [
    "sl = finder.df[finder.df[\"isbn\"] == \"9780073516677\"].sort_values(\"confidence\")\n",
    "sl[-5:-1]"
   ]
  },
  {
   "cell_type": "markdown",
   "metadata": {},
   "source": [
    "## TruthFinder Accuracy with respect to the Gold Standard"
   ]
  },
  {
   "cell_type": "code",
   "execution_count": 29,
   "metadata": {},
   "outputs": [],
   "source": [
    "# Create DF holding the GS authors and TF authors for matching\n",
    "matching = gs.copy()\n",
    "matching = matching.rename(columns = {'authors':'authors_gs'})\n",
    "matching = pd.merge(matching, result, on=['isbn']) # Join\n",
    "matching = matching.rename(columns = {'authors':'authors_tf'})\n",
    "matching = matching[[\"isbn\", \"authors_gs\", \"authors_tf\"]] # Select"
   ]
  },
  {
   "cell_type": "code",
   "execution_count": 30,
   "metadata": {},
   "outputs": [],
   "source": [
    "from strsimpy.cosine import Cosine\n",
    "\n",
    "def similarity(s1, s2):\n",
    "    cosine = Cosine(2)\n",
    "    p0 = cosine.get_profile(s1)\n",
    "    p1 = cosine.get_profile(s2)\n",
    "    return cosine.similarity_profiles(p0, p1)\n",
    "\n",
    "tf_accuracy = 0.0\n",
    "\n",
    "matching['accuracy'] = matching.apply(lambda row: \n",
    "                                      similarity(row[\"authors_gs\"], \n",
    "                                                 row[\"authors_tf\"]), \n",
    "                                      axis = 1)        \n",
    "tf_accuracy = matching.accuracy.mean()"
   ]
  },
  {
   "cell_type": "code",
   "execution_count": 31,
   "metadata": {},
   "outputs": [
    {
     "name": "stdout",
     "output_type": "stream",
     "text": [
      "0.9227554992056092\n"
     ]
    },
    {
     "data": {
      "image/png": "[encoded data removed]",
      "text/plain": [
       "<Figure size 432x288 with 1 Axes>"
      ]
     },
     "metadata": {
      "needs_background": "light"
     },
     "output_type": "display_data"
    }
   ],
   "source": [
    "ax = sns.distplot(matching.accuracy);\n",
    "ax.axvline(tf_accuracy, color='g')\n",
    "plt.legend({'mean accuracy': tf_accuracy})\n",
    "print(tf_accuracy)"
   ]
  },
  {
   "cell_type": "code",
   "execution_count": 32,
   "metadata": {},
   "outputs": [
    {
     "name": "stdout",
     "output_type": "stream",
     "text": [
      "0.9275428577739951\n"
     ]
    },
    {
     "data": {
      "image/png": "[encoded data removed]",
      "text/plain": [
       "<Figure size 432x288 with 1 Axes>"
      ]
     },
     "metadata": {
      "needs_background": "light"
     },
     "output_type": "display_data"
    }
   ],
   "source": [
    "mean_trust = result.drop_duplicates(\"source\").trust.mean()\n",
    "\n",
    "ax = sns.distplot(result.drop_duplicates(\"source\").trust);\n",
    "ax.axvline(mean_trust, color='g')\n",
    "plt.legend({'mean trust': mean_trust})\n",
    "print(mean_trust)"
   ]
  },
  {
   "cell_type": "markdown",
   "metadata": {},
   "source": [
    "### Top/Worst 5 matching instances"
   ]
  },
  {
   "cell_type": "code",
   "execution_count": 33,
   "metadata": {},
   "outputs": [
    {
     "data": {
      "text/html": [
       "<div>\n",
       "<style scoped>\n",
       "    .dataframe tbody tr th:only-of-type {\n",
       "        vertical-align: middle;\n",
       "    }\n",
       "\n",
       "    .dataframe tbody tr th {\n",
       "        vertical-align: top;\n",
       "    }\n",
       "\n",
       "    .dataframe thead th {\n",
       "        text-align: right;\n",
       "    }\n",
       "</style>\n",
       "<table border=\"1\" class=\"dataframe\">\n",
       "  <thead>\n",
       "    <tr style=\"text-align: right;\">\n",
       "      <th></th>\n",
       "      <th>isbn</th>\n",
       "      <th>authors_gs</th>\n",
       "      <th>authors_tf</th>\n",
       "      <th>accuracy</th>\n",
       "    </tr>\n",
       "  </thead>\n",
       "  <tbody>\n",
       "    <tr>\n",
       "      <th>2</th>\n",
       "      <td>9780072922363</td>\n",
       "      <td>hutton david v</td>\n",
       "      <td>hutton david v</td>\n",
       "      <td>1.0</td>\n",
       "    </tr>\n",
       "    <tr>\n",
       "      <th>32</th>\n",
       "      <td>1558601368</td>\n",
       "      <td>przybylski steven a</td>\n",
       "      <td>przybylski steven a</td>\n",
       "      <td>1.0</td>\n",
       "    </tr>\n",
       "    <tr>\n",
       "      <th>40</th>\n",
       "      <td>0750694998</td>\n",
       "      <td>pease robert a</td>\n",
       "      <td>pease robert a</td>\n",
       "      <td>1.0</td>\n",
       "    </tr>\n",
       "    <tr>\n",
       "      <th>41</th>\n",
       "      <td>0750677953</td>\n",
       "      <td>jones andy ashenden debi</td>\n",
       "      <td>jones andy ashenden debi</td>\n",
       "      <td>1.0</td>\n",
       "    </tr>\n",
       "    <tr>\n",
       "      <th>44</th>\n",
       "      <td>0750656832</td>\n",
       "      <td>pooley rob wilcox pauline</td>\n",
       "      <td>pooley rob wilcox pauline</td>\n",
       "      <td>1.0</td>\n",
       "    </tr>\n",
       "  </tbody>\n",
       "</table>\n",
       "</div>"
      ],
      "text/plain": [
       "             isbn                 authors_gs                 authors_tf  \\\n",
       "2   9780072922363             hutton david v             hutton david v   \n",
       "32     1558601368        przybylski steven a        przybylski steven a   \n",
       "40     0750694998             pease robert a             pease robert a   \n",
       "41     0750677953   jones andy ashenden debi   jones andy ashenden debi   \n",
       "44     0750656832  pooley rob wilcox pauline  pooley rob wilcox pauline   \n",
       "\n",
       "    accuracy  \n",
       "2        1.0  \n",
       "32       1.0  \n",
       "40       1.0  \n",
       "41       1.0  \n",
       "44       1.0  "
      ]
     },
     "metadata": {},
     "output_type": "display_data"
    },
    {
     "data": {
      "text/html": [
       "<div>\n",
       "<style scoped>\n",
       "    .dataframe tbody tr th:only-of-type {\n",
       "        vertical-align: middle;\n",
       "    }\n",
       "\n",
       "    .dataframe tbody tr th {\n",
       "        vertical-align: top;\n",
       "    }\n",
       "\n",
       "    .dataframe thead th {\n",
       "        text-align: right;\n",
       "    }\n",
       "</style>\n",
       "<table border=\"1\" class=\"dataframe\">\n",
       "  <thead>\n",
       "    <tr style=\"text-align: right;\">\n",
       "      <th></th>\n",
       "      <th>isbn</th>\n",
       "      <th>authors_gs</th>\n",
       "      <th>authors_tf</th>\n",
       "      <th>accuracy</th>\n",
       "    </tr>\n",
       "  </thead>\n",
       "  <tbody>\n",
       "    <tr>\n",
       "      <th>6</th>\n",
       "      <td>9780072232172</td>\n",
       "      <td>suhanovs dennis</td>\n",
       "      <td>dennis suhanovs press certification certificat...</td>\n",
       "      <td>0.389381</td>\n",
       "    </tr>\n",
       "    <tr>\n",
       "      <th>99</th>\n",
       "      <td>1555582745</td>\n",
       "      <td>moore martin hancock steven</td>\n",
       "      <td>moore</td>\n",
       "      <td>0.392232</td>\n",
       "    </tr>\n",
       "    <tr>\n",
       "      <th>46</th>\n",
       "      <td>044450673X</td>\n",
       "      <td>jenssen c b kvamdal t andersson h i ecer a per...</td>\n",
       "      <td>jenssen c b</td>\n",
       "      <td>0.451447</td>\n",
       "    </tr>\n",
       "    <tr>\n",
       "      <th>13</th>\n",
       "      <td>1558609199</td>\n",
       "      <td>halpin terry evans ken hallock pat maclean bill</td>\n",
       "      <td>halpin terry</td>\n",
       "      <td>0.583874</td>\n",
       "    </tr>\n",
       "    <tr>\n",
       "      <th>59</th>\n",
       "      <td>0321219767</td>\n",
       "      <td>filman robert e elrad tzilla clarke siobhan ak...</td>\n",
       "      <td>filman robert e</td>\n",
       "      <td>0.617213</td>\n",
       "    </tr>\n",
       "  </tbody>\n",
       "</table>\n",
       "</div>"
      ],
      "text/plain": [
       "             isbn                                         authors_gs  \\\n",
       "6   9780072232172                                    suhanovs dennis   \n",
       "99     1555582745                        moore martin hancock steven   \n",
       "46     044450673X  jenssen c b kvamdal t andersson h i ecer a per...   \n",
       "13     1558609199    halpin terry evans ken hallock pat maclean bill   \n",
       "59     0321219767  filman robert e elrad tzilla clarke siobhan ak...   \n",
       "\n",
       "                                           authors_tf  accuracy  \n",
       "6   dennis suhanovs press certification certificat...  0.389381  \n",
       "99                                              moore  0.392232  \n",
       "46                                        jenssen c b  0.451447  \n",
       "13                                       halpin terry  0.583874  \n",
       "59                                    filman robert e  0.617213  "
      ]
     },
     "metadata": {},
     "output_type": "display_data"
    }
   ],
   "source": [
    "top5 = matching.nlargest(5,'accuracy')\n",
    "worst5 = matching.nsmallest(5,'accuracy')\n",
    "\n",
    "display(top5)\n",
    "display(worst5)"
   ]
  },
  {
   "cell_type": "markdown",
   "metadata": {},
   "source": [
    "### Top/Worst 10 Sources"
   ]
  },
  {
   "cell_type": "code",
   "execution_count": 96,
   "metadata": {
    "scrolled": false
   },
   "outputs": [
    {
     "data": {
      "text/html": [
       "<div>\n",
       "<style scoped>\n",
       "    .dataframe tbody tr th:only-of-type {\n",
       "        vertical-align: middle;\n",
       "    }\n",
       "\n",
       "    .dataframe tbody tr th {\n",
       "        vertical-align: top;\n",
       "    }\n",
       "\n",
       "    .dataframe thead th {\n",
       "        text-align: right;\n",
       "    }\n",
       "</style>\n",
       "<table border=\"1\" class=\"dataframe\">\n",
       "  <thead>\n",
       "    <tr style=\"text-align: right;\">\n",
       "      <th></th>\n",
       "      <th>source</th>\n",
       "      <th>trust</th>\n",
       "    </tr>\n",
       "  </thead>\n",
       "  <tbody>\n",
       "    <tr>\n",
       "      <th>488</th>\n",
       "      <td>spine and crown</td>\n",
       "      <td>1.0</td>\n",
       "    </tr>\n",
       "    <tr>\n",
       "      <th>476</th>\n",
       "      <td>er books</td>\n",
       "      <td>1.0</td>\n",
       "    </tr>\n",
       "    <tr>\n",
       "      <th>259</th>\n",
       "      <td>a novel idea bookstore</td>\n",
       "      <td>1.0</td>\n",
       "    </tr>\n",
       "    <tr>\n",
       "      <th>263</th>\n",
       "      <td>strand book store, abaa</td>\n",
       "      <td>1.0</td>\n",
       "    </tr>\n",
       "    <tr>\n",
       "      <th>49</th>\n",
       "      <td>gail p. kennon, book-comber</td>\n",
       "      <td>1.0</td>\n",
       "    </tr>\n",
       "  </tbody>\n",
       "</table>\n",
       "</div>"
      ],
      "text/plain": [
       "                          source  trust\n",
       "488              spine and crown    1.0\n",
       "476                     er books    1.0\n",
       "259       a novel idea bookstore    1.0\n",
       "263      strand book store, abaa    1.0\n",
       "49   gail p. kennon, book-comber    1.0"
      ]
     },
     "metadata": {},
     "output_type": "display_data"
    },
    {
     "data": {
      "text/html": [
       "<div>\n",
       "<style scoped>\n",
       "    .dataframe tbody tr th:only-of-type {\n",
       "        vertical-align: middle;\n",
       "    }\n",
       "\n",
       "    .dataframe tbody tr th {\n",
       "        vertical-align: top;\n",
       "    }\n",
       "\n",
       "    .dataframe thead th {\n",
       "        text-align: right;\n",
       "    }\n",
       "</style>\n",
       "<table border=\"1\" class=\"dataframe\">\n",
       "  <thead>\n",
       "    <tr style=\"text-align: right;\">\n",
       "      <th></th>\n",
       "      <th>source</th>\n",
       "      <th>trust</th>\n",
       "    </tr>\n",
       "  </thead>\n",
       "  <tbody>\n",
       "    <tr>\n",
       "      <th>699</th>\n",
       "      <td>reliable enterprises, inc.</td>\n",
       "      <td>0.523554</td>\n",
       "    </tr>\n",
       "    <tr>\n",
       "      <th>894</th>\n",
       "      <td>hyannisport books</td>\n",
       "      <td>0.646502</td>\n",
       "    </tr>\n",
       "    <tr>\n",
       "      <th>167</th>\n",
       "      <td>opoe-abe books</td>\n",
       "      <td>0.678901</td>\n",
       "    </tr>\n",
       "    <tr>\n",
       "      <th>703</th>\n",
       "      <td>textbooksnow</td>\n",
       "      <td>0.683280</td>\n",
       "    </tr>\n",
       "    <tr>\n",
       "      <th>20</th>\n",
       "      <td>technischer overseas pvt. ltd.</td>\n",
       "      <td>0.712872</td>\n",
       "    </tr>\n",
       "  </tbody>\n",
       "</table>\n",
       "</div>"
      ],
      "text/plain": [
       "                             source     trust\n",
       "699      reliable enterprises, inc.  0.523554\n",
       "894               hyannisport books  0.646502\n",
       "167                  opoe-abe books  0.678901\n",
       "703                    textbooksnow  0.683280\n",
       "20   technischer overseas pvt. ltd.  0.712872"
      ]
     },
     "metadata": {},
     "output_type": "display_data"
    }
   ],
   "source": [
    "top_sources = result.drop_duplicates(\"source\").nlargest(5, \"trust\")[[\"source\", \"trust\"]]\n",
    "worst_sources = result.drop_duplicates(\"source\").nsmallest(5, \"trust\")[[\"source\", \"trust\"]]\n",
    "\n",
    "display(top_sources)\n",
    "display(worst_sources)"
   ]
  },
  {
   "cell_type": "markdown",
   "metadata": {},
   "source": [
    "### TruthFinder hyperparameters search"
   ]
  },
  {
   "cell_type": "code",
   "execution_count": 38,
   "metadata": {
    "scrolled": false
   },
   "outputs": [
    {
     "name": "stdout",
     "output_type": "stream",
     "text": [
      "Iteration: 0, Error: 0.007509068747877046\n",
      "### Model params: max_it=1, Accuracy: 0.9227554992056092\n",
      "Iteration: 0, Error: 0.007509068747877046\n",
      "Iteration: 1, Error: 0.00029568881379216094\n",
      "Iteration: 2, Error: 9.308367088023406e-05\n",
      "Iteration: 3, Error: 3.123884741806915e-05\n",
      "Iteration: 4, Error: 9.88124925671574e-06\n",
      "Iteration: 5, Error: 3.096563697679855e-06\n",
      "Iteration: 6, Error: 9.739034650957379e-07\n",
      "Iteration: 7, Error: 3.0482668655906764e-07\n",
      "Iteration: 8, Error: 9.4001415873457e-08\n",
      "Iteration: 9, Error: 2.8475935054395052e-08\n",
      "### Model params: max_it=10, Accuracy: 0.9250619707842509\n",
      "Iteration: 0, Error: 0.007509068747877046\n",
      "Iteration: 1, Error: 0.00029568881379216094\n",
      "Iteration: 2, Error: 9.308367088023406e-05\n",
      "Iteration: 3, Error: 3.123884741806915e-05\n",
      "Iteration: 4, Error: 9.88124925671574e-06\n",
      "Iteration: 5, Error: 3.096563697679855e-06\n",
      "Iteration: 6, Error: 9.739034650957379e-07\n",
      "Iteration: 7, Error: 3.0482668655906764e-07\n",
      "Iteration: 8, Error: 9.4001415873457e-08\n",
      "Iteration: 9, Error: 2.8475935054395052e-08\n",
      "Iteration: 10, Error: 8.500221082563542e-09\n",
      "Iteration: 11, Error: 2.5146995596969646e-09\n",
      "Iteration: 12, Error: 7.419382885842651e-10\n",
      "Iteration: 13, Error: 2.1964607910263112e-10\n",
      "Iteration: 14, Error: 6.563316556906784e-11\n",
      "Iteration: 15, Error: 1.9911072790534945e-11\n",
      "Iteration: 16, Error: 6.1670668571878196e-12\n",
      "Iteration: 17, Error: 1.959654660765864e-12\n",
      "Iteration: 18, Error: 6.412648190234904e-13\n",
      "Iteration: 19, Error: 2.170486013142181e-13\n",
      "### Model params: max_it=20, Accuracy: 0.9250619707842509\n",
      "Iteration: 0, Error: 0.007509068747877046\n",
      "Iteration: 1, Error: 0.00029568881379216094\n",
      "Iteration: 2, Error: 9.308367088023406e-05\n",
      "Iteration: 3, Error: 3.123884741806915e-05\n",
      "Iteration: 4, Error: 9.88124925671574e-06\n",
      "Iteration: 5, Error: 3.096563697679855e-06\n",
      "Iteration: 6, Error: 9.739034650957379e-07\n",
      "Iteration: 7, Error: 3.0482668655906764e-07\n",
      "Iteration: 8, Error: 9.4001415873457e-08\n",
      "Iteration: 9, Error: 2.8475935054395052e-08\n",
      "Iteration: 10, Error: 8.500221082563542e-09\n",
      "Iteration: 11, Error: 2.5146995596969646e-09\n",
      "Iteration: 12, Error: 7.419382885842651e-10\n",
      "Iteration: 13, Error: 2.1964607910263112e-10\n",
      "Iteration: 14, Error: 6.563316556906784e-11\n",
      "Iteration: 15, Error: 1.9911072790534945e-11\n",
      "Iteration: 16, Error: 6.1670668571878196e-12\n",
      "Iteration: 17, Error: 1.959654660765864e-12\n",
      "Iteration: 18, Error: 6.412648190234904e-13\n",
      "Iteration: 19, Error: 2.170486013142181e-13\n",
      "Iteration: 20, Error: 7.549516567451064e-14\n",
      "Iteration: 21, Error: 2.653433028854124e-14\n",
      "Iteration: 22, Error: 1.0103029524088925e-14\n",
      "Iteration: 23, Error: 3.774758283725532e-15\n",
      "Iteration: 24, Error: 1.3322676295501878e-15\n",
      "Iteration: 25, Error: 4.440892098500626e-16\n",
      "Iteration: 26, Error: 0.0\n",
      "Iteration: 27, Error: -4.440892098500626e-16\n",
      "Iteration: 28, Error: -2.220446049250313e-16\n",
      "Iteration: 29, Error: 0.0\n",
      "### Model params: max_it=30, Accuracy: 0.9250619707842509\n"
     ]
    }
   ],
   "source": [
    "# Max iteration accuracy\n",
    "\n",
    "max_iter = [1, 10, 20, 30]\n",
    "\n",
    "search_results_it = []\n",
    "\n",
    "for it in max_iter:\n",
    "    finder = TruthFinder(df.copy(deep=True), \n",
    "                     fact=\"authors\", \n",
    "                     obj=\"isbn\",\n",
    "                     initial_trust=0.8)\n",
    "    \n",
    "    result = finder.compute(max_it=it, tolerance=0.01, progress=True)\n",
    "    \n",
    "    matching = gs.copy(deep=True)\n",
    "    matching = matching.rename(columns = {'authors':'authors_gs'})\n",
    "    matching = pd.merge(matching, result, on=['isbn']) # Join\n",
    "    matching = matching.rename(columns = {'authors':'authors_tf'})\n",
    "    matching = matching[[\"isbn\", \"authors_gs\", \"authors_tf\"]] # Select\n",
    "    \n",
    "    matching['accuracy'] = matching.apply(lambda row: \n",
    "                                      similarity(row[\"authors_gs\"], \n",
    "                                                 row[\"authors_tf\"]), \n",
    "                                      axis = 1)        \n",
    "    accuracy = matching.accuracy.mean()\n",
    "    search_results_it.append({\"it\": it, \"accuracy\": matching.accuracy.copy()})\n",
    "    print(\"### Model params: max_it={}, Accuracy: {}\".format(it, accuracy))"
   ]
  },
  {
   "cell_type": "code",
   "execution_count": 62,
   "metadata": {},
   "outputs": [
    {
     "data": {
      "text/plain": [
       "[Text(0, 0.5, 'error'), Text(0.5, 0, 'iterations')]"
      ]
     },
     "execution_count": 62,
     "metadata": {},
     "output_type": "execute_result"
    },
    {
     "data": {
      "image/png": "[encoded data removed]",
      "text/plain": [
       "<Figure size 432x288 with 1 Axes>"
      ]
     },
     "metadata": {
      "needs_background": "light"
     },
     "output_type": "display_data"
    }
   ],
   "source": [
    "# Copied from the cell above because I forgot to store them and it takes too long to rerun it\n",
    "errors = pd.Series([0.007509068747877046,\n",
    "0.00029568881379216094,\n",
    "9.308367088023406e-05,\n",
    "3.123884741806915e-05,\n",
    "9.88124925671574e-06,\n",
    "3.096563697679855e-06,\n",
    "9.739034650957379e-07,\n",
    "3.0482668655906764e-07,\n",
    "9.4001415873457e-08,\n",
    "2.8475935054395052e-08,\n",
    "8.500221082563542e-09,\n",
    "2.5146995596969646e-09,\n",
    "7.419382885842651e-10,\n",
    "2.1964607910263112e-10,\n",
    "6.563316556906784e-11,\n",
    "1.9911072790534945e-11,\n",
    "6.1670668571878196e-12,\n",
    "1.959654660765864e-12,\n",
    "6.412648190234904e-13,\n",
    "2.170486013142181e-13,\n",
    "7.549516567451064e-14,\n",
    "2.653433028854124e-14,\n",
    "1.0103029524088925e-14,\n",
    "3.774758283725532e-15,\n",
    "1.3322676295501878e-15,\n",
    "4.440892098500626e-16])\n",
    "\n",
    "ax = sns.lineplot(data=errors)\n",
    "ax.set(xlabel='iterations', ylabel='error')\n",
    "ax.set_yscale(\"log\")"
   ]
  },
  {
   "cell_type": "code",
   "execution_count": 144,
   "metadata": {},
   "outputs": [
    {
     "data": {
      "text/plain": [
       "(0.922, 0.926)"
      ]
     },
     "execution_count": 144,
     "metadata": {},
     "output_type": "execute_result"
    },
    {
     "data": {
      "image/png": "[encoded data removed]",
      "text/plain": [
       "<Figure size 432x288 with 1 Axes>"
      ]
     },
     "metadata": {
      "needs_background": "light"
     },
     "output_type": "display_data"
    }
   ],
   "source": [
    "# Same as above\n",
    "acc_it = {1:0.9227554992056092, \n",
    "          10:0.9250619707842509, \n",
    "          20:0.9250619707842509, \n",
    "          30:0.9250619707842509}\n",
    "acc_it = pd.Series(acc_it)\n",
    "ax = sns.lineplot(data=acc_it)\n",
    "ax.set(xlabel='iterations', ylabel='accuracy')\n",
    "ax.set_ylim([0.922,0.926])"
   ]
  },
  {
   "cell_type": "code",
   "execution_count": 151,
   "metadata": {},
   "outputs": [
    {
     "data": {
      "image/png": "[encoded data removed]",
      "text/plain": [
       "<Figure size 720x288 with 2 Axes>"
      ]
     },
     "metadata": {
      "needs_background": "light"
     },
     "output_type": "display_data"
    }
   ],
   "source": [
    "fig = plt.figure(figsize=(10,4))\n",
    "plt.subplot(1, 2, 1)\n",
    "ax = sns.lineplot(data=acc_it)\n",
    "ax.set(xlabel='iterations', ylabel='accuracy')\n",
    "ax.set_ylim([0.922,0.926])\n",
    "\n",
    "plt.subplot(1, 2, 2)\n",
    "ax = sns.lineplot(data=errors)\n",
    "ax.set(xlabel='iterations', ylabel='error')\n",
    "ax.set_yscale(\"log\")\n",
    "fig.subplots_adjust(wspace=0.3)\n",
    "plt.show()"
   ]
  },
  {
   "cell_type": "code",
   "execution_count": 84,
   "metadata": {},
   "outputs": [
    {
     "ename": "KeyError",
     "evalue": "'it'",
     "output_type": "error",
     "traceback": [
      "\u001b[1;31m---------------------------------------------------------------------------\u001b[0m",
      "\u001b[1;31mKeyError\u001b[0m                                  Traceback (most recent call last)",
      "\u001b[1;32m<ipython-input-84-a4d0869a5c9a>\u001b[0m in \u001b[0;36m<module>\u001b[1;34m\u001b[0m\n\u001b[0;32m      3\u001b[0m \u001b[1;32mfor\u001b[0m \u001b[0mres\u001b[0m \u001b[1;32min\u001b[0m \u001b[0msearch_results\u001b[0m\u001b[1;33m:\u001b[0m\u001b[1;33m\u001b[0m\u001b[1;33m\u001b[0m\u001b[0m\n\u001b[0;32m      4\u001b[0m     sns.distplot(res[\"accuracy\"], hist=False, \n\u001b[1;32m----> 5\u001b[1;33m                  label = \"iteration = {}, acc = {:0.3f}\".format(res[\"it\"], res[\"accuracy\"].mean()))\n\u001b[0m\u001b[0;32m      6\u001b[0m \u001b[1;33m\u001b[0m\u001b[0m\n",
      "\u001b[1;31mKeyError\u001b[0m: 'it'"
     ]
    },
    {
     "data": {
      "text/plain": [
       "<Figure size 432x288 with 0 Axes>"
      ]
     },
     "metadata": {},
     "output_type": "display_data"
    }
   ],
   "source": [
    "ax = plt.figure()\n",
    "\n",
    "for res in search_results_it: \n",
    "    sns.distplot(res[\"accuracy\"], hist=False, \n",
    "                 label = \"iteration = {}, acc = {:0.3f}\".format(res[\"it\"], res[\"accuracy\"].mean()))\n",
    "    "
   ]
  },
  {
   "cell_type": "code",
   "execution_count": 40,
   "metadata": {},
   "outputs": [
    {
     "name": "stdout",
     "output_type": "stream",
     "text": [
      "Params: (0.1, 0.3), Accuracy: 0.8958010380756994\n",
      "Params: (0.1, 0.5), Accuracy: 0.9281391810040098\n",
      "Params: (0.1, 0.7), Accuracy: 0.9452262841386917\n",
      "Params: (0.3, 0.3), Accuracy: 0.8921846518516073\n",
      "Params: (0.3, 0.5), Accuracy: 0.9250619707842509\n",
      "Params: (0.3, 0.7), Accuracy: 0.938234162995715\n",
      "Params: (0.5, 0.3), Accuracy: 0.916163188278557\n",
      "Params: (0.5, 0.5), Accuracy: 0.9291448053391587\n",
      "Params: (0.5, 0.7), Accuracy: 0.9417096061501123\n"
     ]
    }
   ],
   "source": [
    "# Damping and Relatedness grid search\n",
    "\n",
    "import itertools\n",
    "\n",
    "dampening = [0.1, 0.3, 0.5]\n",
    "relatedness = [0.3, 0.5, 0.7]\n",
    "\n",
    "search_results = []\n",
    "\n",
    "for param in itertools.product(*[dampening, relatedness]):\n",
    "    finder = TruthFinder(df.copy(), \n",
    "                     fact=\"authors\", \n",
    "                     obj=\"isbn\",\n",
    "                     dampening_factor = param[0],\n",
    "                     relatedness_factor = param[1],\n",
    "                     initial_trust=0.8)\n",
    "\n",
    "    result = finder.compute(tolerance=0.01)\n",
    "    \n",
    "    matching = gs.copy()\n",
    "    matching = matching.rename(columns = {'authors':'authors_gs'})\n",
    "    matching = pd.merge(matching, result, on=['isbn']) # Join\n",
    "    matching = matching.rename(columns = {'authors':'authors_tf'})\n",
    "    matching = matching[[\"isbn\", \"authors_gs\", \"authors_tf\"]] # Select\n",
    "    \n",
    "    matching['accuracy'] = matching.apply(lambda row: \n",
    "                                      similarity(row[\"authors_gs\"], \n",
    "                                                 row[\"authors_tf\"]), \n",
    "                                      axis = 1)        \n",
    "    accuracy = matching.accuracy.mean()\n",
    "    search_results.append({\"params\": param, \"accuracy\": matching.accuracy.copy()})\n",
    "    print(\"Params: {}, Accuracy: {}\".format(param, accuracy))"
   ]
  },
  {
   "cell_type": "code",
   "execution_count": 85,
   "metadata": {},
   "outputs": [
    {
     "data": {
      "image/png": "[encoded data removed]",
      "text/plain": [
       "<Figure size 432x288 with 1 Axes>"
      ]
     },
     "metadata": {
      "needs_background": "light"
     },
     "output_type": "display_data"
    }
   ],
   "source": [
    "ax = plt.figure()\n",
    "\n",
    "for res in search_results:\n",
    "    sns.distplot(res[\"accuracy\"], hist=False, \n",
    "                 label = \"γ, ρ = {}, acc = {:0.3f}\".format(res[\"params\"], res[\"accuracy\"].mean()))\n",
    "    "
   ]
  },
  {
   "cell_type": "code",
   "execution_count": 75,
   "metadata": {},
   "outputs": [
    {
     "data": {
      "text/plain": [
       "0.1"
      ]
     },
     "execution_count": 75,
     "metadata": {},
     "output_type": "execute_result"
    }
   ],
   "source": [
    "heat.params[0][0]"
   ]
  },
  {
   "cell_type": "code",
   "execution_count": 83,
   "metadata": {},
   "outputs": [
    {
     "data": {
      "text/plain": [
       "<matplotlib.axes._subplots.AxesSubplot at 0x1944a4f9848>"
      ]
     },
     "execution_count": 83,
     "metadata": {},
     "output_type": "execute_result"
    },
    {
     "data": {
      "image/png": "[encoded data removed]",
      "text/plain": [
       "<Figure size 432x288 with 2 Axes>"
      ]
     },
     "metadata": {
      "needs_background": "light"
     },
     "output_type": "display_data"
    }
   ],
   "source": [
    "heat = pd.DataFrame(search_results)\n",
    "heat.accuracy = heat.accuracy.apply(lambda x: x.mean())\n",
    "heat[\"dampening\"] = [x[0] for x in heat.params]\n",
    "heat[\"relatedness\"] = [x[1] for x in heat.params]\n",
    "heat = heat.drop(['params'], axis=1)\n",
    "heat = pd.pivot_table(heat, values='accuracy', \n",
    "                     index='dampening', \n",
    "                     columns='relatedness')\n",
    "\n",
    "sns.heatmap(heat, annot=True)\n"
   ]
  }
 ],
 "metadata": {
  "kernelspec": {
   "display_name": "Python 3",
   "language": "python",
   "name": "python3"
  },
  "language_info": {
   "codemirror_mode": {
    "name": "ipython",
    "version": 3
   },
   "file_extension": ".py",
   "mimetype": "text/x-python",
   "name": "python",
   "nbconvert_exporter": "python",
   "pygments_lexer": "ipython3",
   "version": "3.7.6"
  }
 },
 "nbformat": 4,
 "nbformat_minor": 4
}
