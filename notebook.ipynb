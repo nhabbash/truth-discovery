{
 "cells": [
  {
   "cell_type": "code",
   "execution_count": 1,
   "metadata": {},
   "outputs": [],
   "source": [
    "%load_ext autoreload\n",
    "%autoreload 2"
   ]
  },
  {
   "cell_type": "code",
   "execution_count": 41,
   "metadata": {},
   "outputs": [],
   "source": [
    "# Utilities\n",
    "import re\n",
    "import os\n",
    "# Preprocessing\n",
    "from html import unescape\n",
    "from fuzzywuzzy import fuzz\n",
    "# Data management\n",
    "import numpy as np\n",
    "import pandas as pd\n",
    "import seaborn as sns\n",
    "import matplotlib.pyplot as plt\n",
    "sns.set(style=\"whitegrid\")"
   ]
  },
  {
   "cell_type": "code",
   "execution_count": 100,
   "metadata": {},
   "outputs": [],
   "source": [
    "df = pd.read_csv(\"./data/book.txt\", \n",
    "                   sep='\\t', \n",
    "                   lineterminator='\\n', \n",
    "                   header=None, \n",
    "                   names=[\"source\", \"isbn\", \"title\", \"authors\"])"
   ]
  },
  {
   "cell_type": "code",
   "execution_count": 4,
   "metadata": {
    "scrolled": true
   },
   "outputs": [
    {
     "data": {
      "text/html": [
       "<div>\n",
       "<style scoped>\n",
       "    .dataframe tbody tr th:only-of-type {\n",
       "        vertical-align: middle;\n",
       "    }\n",
       "\n",
       "    .dataframe tbody tr th {\n",
       "        vertical-align: top;\n",
       "    }\n",
       "\n",
       "    .dataframe thead th {\n",
       "        text-align: right;\n",
       "    }\n",
       "</style>\n",
       "<table border=\"1\" class=\"dataframe\">\n",
       "  <thead>\n",
       "    <tr style=\"text-align: right;\">\n",
       "      <th></th>\n",
       "      <th>source</th>\n",
       "      <th>isbn</th>\n",
       "      <th>title</th>\n",
       "      <th>authors</th>\n",
       "    </tr>\n",
       "  </thead>\n",
       "  <tbody>\n",
       "    <tr>\n",
       "      <th>0</th>\n",
       "      <td>eCampus.com</td>\n",
       "      <td>0201853949</td>\n",
       "      <td>The art Of Computer Programming, Fascicle 3: G...</td>\n",
       "      <td>Not Available\\r</td>\n",
       "    </tr>\n",
       "    <tr>\n",
       "      <th>1</th>\n",
       "      <td>Indoo.com</td>\n",
       "      <td>0201853949</td>\n",
       "      <td>Art of Computer Programming, Volume 4, Fascicl...</td>\n",
       "      <td>Knuth, Donald E.\\r</td>\n",
       "    </tr>\n",
       "    <tr>\n",
       "      <th>2</th>\n",
       "      <td>textbookxdotcom</td>\n",
       "      <td>0201853949</td>\n",
       "      <td>The 'art Of Computer Programming, Fascicle 3 G...</td>\n",
       "      <td>\\r</td>\n",
       "    </tr>\n",
       "    <tr>\n",
       "      <th>3</th>\n",
       "      <td>A1Books</td>\n",
       "      <td>0201853949</td>\n",
       "      <td>The Art of Computer Programming, Volume 4, Fas...</td>\n",
       "      <td>Knuth, Donald E.\\r</td>\n",
       "    </tr>\n",
       "    <tr>\n",
       "      <th>4</th>\n",
       "      <td>textbooksNow</td>\n",
       "      <td>0201853949</td>\n",
       "      <td>Art of Computer Programming</td>\n",
       "      <td>Knuth\\r</td>\n",
       "    </tr>\n",
       "  </tbody>\n",
       "</table>\n",
       "</div>"
      ],
      "text/plain": [
       "            source        isbn  \\\n",
       "0      eCampus.com  0201853949   \n",
       "1        Indoo.com  0201853949   \n",
       "2  textbookxdotcom  0201853949   \n",
       "3          A1Books  0201853949   \n",
       "4     textbooksNow  0201853949   \n",
       "\n",
       "                                               title             authors  \n",
       "0  The art Of Computer Programming, Fascicle 3: G...     Not Available\\r  \n",
       "1  Art of Computer Programming, Volume 4, Fascicl...  Knuth, Donald E.\\r  \n",
       "2  The 'art Of Computer Programming, Fascicle 3 G...                  \\r  \n",
       "3  The Art of Computer Programming, Volume 4, Fas...  Knuth, Donald E.\\r  \n",
       "4                        Art of Computer Programming             Knuth\\r  "
      ]
     },
     "execution_count": 4,
     "metadata": {},
     "output_type": "execute_result"
    }
   ],
   "source": [
    "df.head()"
   ]
  },
  {
   "cell_type": "code",
   "execution_count": 5,
   "metadata": {},
   "outputs": [
    {
     "data": {
      "text/html": [
       "<div>\n",
       "<style scoped>\n",
       "    .dataframe tbody tr th:only-of-type {\n",
       "        vertical-align: middle;\n",
       "    }\n",
       "\n",
       "    .dataframe tbody tr th {\n",
       "        vertical-align: top;\n",
       "    }\n",
       "\n",
       "    .dataframe thead th {\n",
       "        text-align: right;\n",
       "    }\n",
       "</style>\n",
       "<table border=\"1\" class=\"dataframe\">\n",
       "  <thead>\n",
       "    <tr style=\"text-align: right;\">\n",
       "      <th></th>\n",
       "      <th>source</th>\n",
       "      <th>isbn</th>\n",
       "      <th>title</th>\n",
       "      <th>authors</th>\n",
       "    </tr>\n",
       "  </thead>\n",
       "  <tbody>\n",
       "    <tr>\n",
       "      <th>count</th>\n",
       "      <td>33971</td>\n",
       "      <td>33971</td>\n",
       "      <td>33968</td>\n",
       "      <td>33971</td>\n",
       "    </tr>\n",
       "    <tr>\n",
       "      <th>unique</th>\n",
       "      <td>895</td>\n",
       "      <td>1265</td>\n",
       "      <td>11095</td>\n",
       "      <td>9627</td>\n",
       "    </tr>\n",
       "    <tr>\n",
       "      <th>top</th>\n",
       "      <td>A1Books</td>\n",
       "      <td>0321263588</td>\n",
       "      <td>Modern Database Management</td>\n",
       "      <td>\\r</td>\n",
       "    </tr>\n",
       "    <tr>\n",
       "      <th>freq</th>\n",
       "      <td>2403</td>\n",
       "      <td>159</td>\n",
       "      <td>90</td>\n",
       "      <td>713</td>\n",
       "    </tr>\n",
       "  </tbody>\n",
       "</table>\n",
       "</div>"
      ],
      "text/plain": [
       "         source        isbn                       title authors\n",
       "count     33971       33971                       33968   33971\n",
       "unique      895        1265                       11095    9627\n",
       "top     A1Books  0321263588  Modern Database Management      \\r\n",
       "freq       2403         159                          90     713"
      ]
     },
     "execution_count": 5,
     "metadata": {},
     "output_type": "execute_result"
    }
   ],
   "source": [
    "df.describe()"
   ]
  },
  {
   "cell_type": "markdown",
   "metadata": {},
   "source": [
    "# Preprocessing"
   ]
  },
  {
   "cell_type": "code",
   "execution_count": 6,
   "metadata": {},
   "outputs": [],
   "source": [
    "def clean(df, gs=False):\n",
    "    if gs:\n",
    "        df[\"authors\"] = df[\"authors\"].str.lower()\n",
    "        df[\"authors\"] = df[\"authors\"].str.replace('[^\\w\\s]|\\\\r','')\n",
    "        df.authors = df.authors.replace('\\s+', ' ', regex=True)\n",
    "        #df.authors = df.authors.replace(r'\\b\\w\\b', ' ', regex=True)\n",
    " \n",
    "        df['authors'] = df['authors'].str.strip()\n",
    "    else:\n",
    "        # Unescape HTML left over from scraping\n",
    "        df.authors = df.authors.apply(unescape)\n",
    "        df.title = df.title.apply(lambda x: unescape(str(x)))\n",
    "        # Lowercase \n",
    "        df[\"authors\"] = df[\"authors\"].str.lower()\n",
    "        df[\"title\"] = df[\"title\"].str.lower()\n",
    "        df[\"source\"] = df[\"source\"].str.lower()\n",
    "        # Removes parenthesis from author list\n",
    "        df[\"authors\"] = df[\"authors\"].str.replace('\\((.*?)\\)','')\n",
    "        # Replaces | in author list with spaces\n",
    "        df[\"authors\"] = df[\"authors\"].str.replace('\\|',' ')\n",
    "        # Special characters removal (removes all special characters left)\n",
    "        df[\"title\"] = df[\"title\"].str.replace('[^\\w\\s]|\\\\r','')\n",
    "        df[\"authors\"] = df[\"authors\"].str.replace('[^\\w\\s]|\\\\r','')\n",
    "        # Remove numbers from authors\n",
    "        df['authors'] = df['authors'].str.replace('\\d+', '')\n",
    "        # Uniformize missing values\n",
    "        df[\"authors\"] = df[\"authors\"].str.replace('not available','')\n",
    "        df[\"authors\"] = df[\"authors\"].replace(r'^\\s*$', np.nan, regex=True)\n",
    "        # Remove doubled whitespaces\n",
    "        df.authors = df.authors.replace('\\s+', ' ', regex=True)\n",
    "        df.title = df.title.replace('\\s+', ' ', regex=True)\n",
    "        # Remove trailing spaces\n",
    "        df.authors = df.authors.str.strip()\n",
    "        # Remove single characters in authors names\n",
    "        #df.authors = df.authors.replace(r'\\b\\w\\b', ' ', regex=True)"
   ]
  },
  {
   "cell_type": "code",
   "execution_count": 101,
   "metadata": {},
   "outputs": [],
   "source": [
    "clean(df)"
   ]
  },
  {
   "cell_type": "code",
   "execution_count": 8,
   "metadata": {
    "scrolled": false
   },
   "outputs": [
    {
     "data": {
      "text/html": [
       "<div>\n",
       "<style scoped>\n",
       "    .dataframe tbody tr th:only-of-type {\n",
       "        vertical-align: middle;\n",
       "    }\n",
       "\n",
       "    .dataframe tbody tr th {\n",
       "        vertical-align: top;\n",
       "    }\n",
       "\n",
       "    .dataframe thead th {\n",
       "        text-align: right;\n",
       "    }\n",
       "</style>\n",
       "<table border=\"1\" class=\"dataframe\">\n",
       "  <thead>\n",
       "    <tr style=\"text-align: right;\">\n",
       "      <th></th>\n",
       "      <th>source</th>\n",
       "      <th>isbn</th>\n",
       "      <th>title</th>\n",
       "      <th>authors</th>\n",
       "    </tr>\n",
       "  </thead>\n",
       "  <tbody>\n",
       "    <tr>\n",
       "      <th>count</th>\n",
       "      <td>33971</td>\n",
       "      <td>33971</td>\n",
       "      <td>33971</td>\n",
       "      <td>33172</td>\n",
       "    </tr>\n",
       "    <tr>\n",
       "      <th>unique</th>\n",
       "      <td>894</td>\n",
       "      <td>1265</td>\n",
       "      <td>7195</td>\n",
       "      <td>6901</td>\n",
       "    </tr>\n",
       "    <tr>\n",
       "      <th>top</th>\n",
       "      <td>a1books</td>\n",
       "      <td>0321263588</td>\n",
       "      <td>computer networking and the internet</td>\n",
       "      <td>meyers scott</td>\n",
       "    </tr>\n",
       "    <tr>\n",
       "      <th>freq</th>\n",
       "      <td>2403</td>\n",
       "      <td>159</td>\n",
       "      <td>108</td>\n",
       "      <td>136</td>\n",
       "    </tr>\n",
       "  </tbody>\n",
       "</table>\n",
       "</div>"
      ],
      "text/plain": [
       "         source        isbn                                 title  \\\n",
       "count     33971       33971                                 33971   \n",
       "unique      894        1265                                  7195   \n",
       "top     a1books  0321263588  computer networking and the internet   \n",
       "freq       2403         159                                   108   \n",
       "\n",
       "             authors  \n",
       "count          33172  \n",
       "unique          6901  \n",
       "top     meyers scott  \n",
       "freq             136  "
      ]
     },
     "execution_count": 8,
     "metadata": {},
     "output_type": "execute_result"
    }
   ],
   "source": [
    "df.describe()"
   ]
  },
  {
   "cell_type": "code",
   "execution_count": 102,
   "metadata": {},
   "outputs": [
    {
     "data": {
      "text/plain": [
       "7557"
      ]
     },
     "execution_count": 102,
     "metadata": {},
     "output_type": "execute_result"
    }
   ],
   "source": [
    "sum(df.duplicated())"
   ]
  },
  {
   "cell_type": "code",
   "execution_count": 103,
   "metadata": {},
   "outputs": [],
   "source": [
    "df = df.drop_duplicates()"
   ]
  },
  {
   "cell_type": "markdown",
   "metadata": {},
   "source": [
    "# Data Quality Metrics"
   ]
  },
  {
   "cell_type": "code",
   "execution_count": 11,
   "metadata": {},
   "outputs": [
    {
     "data": {
      "text/html": [
       "<div>\n",
       "<style scoped>\n",
       "    .dataframe tbody tr th:only-of-type {\n",
       "        vertical-align: middle;\n",
       "    }\n",
       "\n",
       "    .dataframe tbody tr th {\n",
       "        vertical-align: top;\n",
       "    }\n",
       "\n",
       "    .dataframe thead th {\n",
       "        text-align: right;\n",
       "    }\n",
       "</style>\n",
       "<table border=\"1\" class=\"dataframe\">\n",
       "  <thead>\n",
       "    <tr style=\"text-align: right;\">\n",
       "      <th></th>\n",
       "      <th>isbn</th>\n",
       "      <th>authors</th>\n",
       "    </tr>\n",
       "  </thead>\n",
       "  <tbody>\n",
       "    <tr>\n",
       "      <th>0</th>\n",
       "      <td>9780073516677</td>\n",
       "      <td>oleary timothy j oleary linda i</td>\n",
       "    </tr>\n",
       "    <tr>\n",
       "      <th>1</th>\n",
       "      <td>9780072999389</td>\n",
       "      <td>yacht carol crosson susan</td>\n",
       "    </tr>\n",
       "    <tr>\n",
       "      <th>2</th>\n",
       "      <td>9780072922363</td>\n",
       "      <td>hutton david v</td>\n",
       "    </tr>\n",
       "    <tr>\n",
       "      <th>3</th>\n",
       "      <td>9780072843996</td>\n",
       "      <td>haag stephen perry james t sosinsky barrie est...</td>\n",
       "    </tr>\n",
       "    <tr>\n",
       "      <th>4</th>\n",
       "      <td>9780072466850</td>\n",
       "      <td>reddy j n</td>\n",
       "    </tr>\n",
       "    <tr>\n",
       "      <th>...</th>\n",
       "      <td>...</td>\n",
       "      <td>...</td>\n",
       "    </tr>\n",
       "    <tr>\n",
       "      <th>95</th>\n",
       "      <td>0122290631</td>\n",
       "      <td>eberly david h</td>\n",
       "    </tr>\n",
       "    <tr>\n",
       "      <th>96</th>\n",
       "      <td>0120887975</td>\n",
       "      <td>celko joe</td>\n",
       "    </tr>\n",
       "    <tr>\n",
       "      <th>97</th>\n",
       "      <td>0120455994</td>\n",
       "      <td>aiken peter allen m david</td>\n",
       "    </tr>\n",
       "    <tr>\n",
       "      <th>98</th>\n",
       "      <td>1555581994</td>\n",
       "      <td>cheek matthew</td>\n",
       "    </tr>\n",
       "    <tr>\n",
       "      <th>99</th>\n",
       "      <td>1555582745</td>\n",
       "      <td>moore martin hancock steven</td>\n",
       "    </tr>\n",
       "  </tbody>\n",
       "</table>\n",
       "<p>100 rows × 2 columns</p>\n",
       "</div>"
      ],
      "text/plain": [
       "             isbn                                            authors\n",
       "0   9780073516677                    oleary timothy j oleary linda i\n",
       "1   9780072999389                          yacht carol crosson susan\n",
       "2   9780072922363                                     hutton david v\n",
       "3   9780072843996  haag stephen perry james t sosinsky barrie est...\n",
       "4   9780072466850                                          reddy j n\n",
       "..            ...                                                ...\n",
       "95     0122290631                                     eberly david h\n",
       "96     0120887975                                          celko joe\n",
       "97     0120455994                          aiken peter allen m david\n",
       "98     1555581994                                      cheek matthew\n",
       "99     1555582745                        moore martin hancock steven\n",
       "\n",
       "[100 rows x 2 columns]"
      ]
     },
     "execution_count": 11,
     "metadata": {},
     "output_type": "execute_result"
    }
   ],
   "source": [
    "# Unique sources\n",
    "sources = df.source.unique()\n",
    "\n",
    "gs = pd.read_csv(\"./data/book_golden.txt\", \n",
    "                   sep='\\t', \n",
    "                   lineterminator='\\n', \n",
    "                   header=None, \n",
    "                   names=[\"isbn\", \"authors\"])\n",
    "clean(gs, gs=True)\n",
    "gs"
   ]
  },
  {
   "cell_type": "markdown",
   "metadata": {},
   "source": [
    "### Completeness\n",
    "Attribute/Table completeness\n",
    "\n",
    "NOTE: Closed World assumption"
   ]
  },
  {
   "cell_type": "code",
   "execution_count": 130,
   "metadata": {},
   "outputs": [
    {
     "data": {
      "text/plain": [
       "source       0\n",
       "isbn         0\n",
       "title        0\n",
       "authors    649\n",
       "dtype: int64"
      ]
     },
     "execution_count": 130,
     "metadata": {},
     "output_type": "execute_result"
    }
   ],
   "source": [
    "# Null values\n",
    "null_count = df.isnull().sum()\n",
    "null_count"
   ]
  },
  {
   "cell_type": "code",
   "execution_count": 124,
   "metadata": {},
   "outputs": [
    {
     "data": {
      "text/html": [
       "<div>\n",
       "<style scoped>\n",
       "    .dataframe tbody tr th:only-of-type {\n",
       "        vertical-align: middle;\n",
       "    }\n",
       "\n",
       "    .dataframe tbody tr th {\n",
       "        vertical-align: top;\n",
       "    }\n",
       "\n",
       "    .dataframe thead th {\n",
       "        text-align: right;\n",
       "    }\n",
       "</style>\n",
       "<table border=\"1\" class=\"dataframe\">\n",
       "  <thead>\n",
       "    <tr style=\"text-align: right;\">\n",
       "      <th></th>\n",
       "      <th>source</th>\n",
       "      <th>isbn</th>\n",
       "      <th>title</th>\n",
       "      <th>authors</th>\n",
       "    </tr>\n",
       "  </thead>\n",
       "  <tbody>\n",
       "    <tr>\n",
       "      <th>0</th>\n",
       "      <td>1.0</td>\n",
       "      <td>1.0</td>\n",
       "      <td>1.0</td>\n",
       "      <td>0.97543</td>\n",
       "    </tr>\n",
       "  </tbody>\n",
       "</table>\n",
       "</div>"
      ],
      "text/plain": [
       "   source  isbn  title  authors\n",
       "0     1.0   1.0    1.0  0.97543"
      ]
     },
     "execution_count": 124,
     "metadata": {},
     "output_type": "execute_result"
    }
   ],
   "source": [
    "# Attribute completeness\n",
    "rows = df.shape[0]\n",
    "attributes = list(df)\n",
    "attribute_compl = {}\n",
    "\n",
    "for attribute in attributes:\n",
    "    attribute_compl[attribute] = 1 - (null_count[attribute] / rows)\n",
    "\n",
    "attribute_compl = pd.DataFrame([attribute_compl])\n",
    "attribute_compl"
   ]
  },
  {
   "cell_type": "code",
   "execution_count": 14,
   "metadata": {},
   "outputs": [
    {
     "name": "stdout",
     "output_type": "stream",
     "text": [
      "0.9938574240932838\n"
     ]
    }
   ],
   "source": [
    "# Table completeness\n",
    "table_compl = 1 - (null_count.sum() / (len(attributes)*rows))\n",
    "print(table_compl)"
   ]
  },
  {
   "cell_type": "markdown",
   "metadata": {},
   "source": [
    "### Accuracy (TO SKIP)\n",
    "Accuracy is computed on the TruthFinder elements\n",
    "For each source, matching of ISBN and authors list to Golden Standard"
   ]
  },
  {
   "cell_type": "code",
   "execution_count": 15,
   "metadata": {},
   "outputs": [],
   "source": [
    "def compute_accuracy(source, gs):\n",
    "    # Computes source accuracy by matching the golden standard rows to the source df, \n",
    "    # computing ISBN and Authors accuracy\n",
    "        \n",
    "    isbn_match_count = 0\n",
    "    authors_match_count = 0\n",
    "    authors_match_percentage = 0\n",
    "    \n",
    "    for gs_isbn, gs_authors in zip(gs.isbn, gs.authors):\n",
    "        select = source[source.isbn == gs_isbn]\n",
    "        select = select.dropna()\n",
    "        if not select.empty:\n",
    "            isbn_match_count += 1\n",
    "            for authors in select.authors:\n",
    "                tokens = authors.split()\n",
    "                gs_tokens = gs_authors.split()\n",
    "                match = fuzz.token_sort_ratio(tokens, gs_tokens)\n",
    "                authors_match_percentage += match\n",
    "                authors_match_count += 1\n",
    "                \n",
    "    acc = {\n",
    "        \"isbn\": isbn_match_count/len(source.isbn),\n",
    "        \"authors\": authors_match_percentage/authors_match_count\n",
    "    }\n",
    "    \n",
    "    return acc"
   ]
  },
  {
   "cell_type": "code",
   "execution_count": 16,
   "metadata": {
    "scrolled": false
   },
   "outputs": [
    {
     "name": "stdout",
     "output_type": "stream",
     "text": [
      "Couldn't find program: 'False'\n"
     ]
    }
   ],
   "source": [
    "%%script False\n",
    "\n",
    "source_accuracy = []\n",
    "\n",
    "if not os.path.exists(\"./data/results/source_accuracy.csv\"):\n",
    "    for source in sources:\n",
    "        selected_source = df[df.source == source]\n",
    "        acc = compute_accuracy(df, gs)\n",
    "        acc[\"source\"] = source\n",
    "        source_accuracy.append(acc)\n",
    "    \n",
    "    with open('./data/results/source_accuracy.csv', 'w') as f:\n",
    "        f.write(\"{}; {}; {}\".format(\"source\", \n",
    "                                    \"isbn coverage\", \n",
    "                                    \"authors accuracy\"))\n",
    "        for e in source_accuracy:\n",
    "            f.write(\"{}; {}; {}\".format(e[\"source\"], \n",
    "                                        e[\"isbn\"], \n",
    "                                        e[\"authors\"]))\n",
    "else:\n",
    "    source_accuracy = pd.read_csv(\"./data/results/source_accuracy.csv\", \n",
    "                   header=[\"source\", \"isbn coverage\", \"authors accuracy\"])\n"
   ]
  },
  {
   "cell_type": "markdown",
   "metadata": {},
   "source": [
    "### Coverage\n",
    "How much data of the dataset each source covers"
   ]
  },
  {
   "cell_type": "code",
   "execution_count": 159,
   "metadata": {
    "scrolled": true
   },
   "outputs": [],
   "source": [
    "source_coverage = {}\n",
    "unique_isbn = len(df.isbn.unique())\n",
    "\n",
    "if not os.path.exists(\"./data/results/source_coverage.csv\"):\n",
    "    \n",
    "    for source in sources:\n",
    "        selected_source = df[df.source == source]\n",
    "        source_coverage[source] = len(selected_source.isbn.unique()) / unique_isbn\n",
    "    with open('./data/results/source_coverage.csv', 'w') as f:\n",
    "            f.write(\"{};{}\\n\".format(\"source\",\"coverage\"))\n",
    "            for key, value in source_coverage.items():\n",
    "                f.write(\"{}; {}\\n\".format(key, value))\n",
    "                \n",
    "else:\n",
    "    source_coverage = pd.read_csv(\"data/results/source_coverage.csv\", sep=\";\")"
   ]
  },
  {
   "cell_type": "code",
   "execution_count": 185,
   "metadata": {},
   "outputs": [
    {
     "data": {
      "text/plain": [
       "[Text(0, 0, 'schmidsche buchhandlung fachbuch'),\n",
       " Text(0, 0, 'oxfam bookshop hertford'),\n",
       " Text(0, 0, 'aa42.com'),\n",
       " Text(0, 0, 'robinart books'),\n",
       " Text(0, 0, 'james & naomi cummings, booksellers'),\n",
       " Text(0, 0, 'nancy mcmath'),\n",
       " Text(0, 0, 'hein & co. used and rare books'),\n",
       " Text(0, 0, 'book gallery // mike riley'),\n",
       " Text(0, 0, 'cultured oyster books'),\n",
       " Text(0, 0, 'black swan books')]"
      ]
     },
     "execution_count": 185,
     "metadata": {},
     "output_type": "execute_result"
    },
    {
     "data": {
      "image/png": "[encoded data removed]",
      "text/plain": [
       "<Figure size 432x288 with 1 Axes>"
      ]
     },
     "metadata": {},
     "output_type": "display_data"
    }
   ],
   "source": [
    "source_coverage = pd.DataFrame(source_coverage)\n",
    "\n",
    "top_cover = source_coverage.nlargest(10, \"coverage\")\n",
    "worst_cover = source_coverage.nsmallest(10, \"coverage\")\n",
    "\n",
    "ax = sns.barplot(data=top_cover, x=\"source\", y=\"coverage\")\n",
    "ax.set_xticklabels(ax.get_xticklabels(), rotation=90)\n",
    "ax = sns.barplot(data=worst_cover, x=\"source\", y=\"coverage\")\n",
    "ax.set_xticklabels(ax.get_xticklabels(), rotation=90)\n"
   ]
  },
  {
   "cell_type": "code",
   "execution_count": 18,
   "metadata": {},
   "outputs": [],
   "source": [
    "# Final cleaning step, drop NaN rows\n",
    "df = df.dropna()"
   ]
  },
  {
   "cell_type": "markdown",
   "metadata": {},
   "source": [
    "# Data Fusion"
   ]
  },
  {
   "cell_type": "markdown",
   "metadata": {},
   "source": [
    "## TruthFinder implementation"
   ]
  },
  {
   "cell_type": "code",
   "execution_count": 19,
   "metadata": {},
   "outputs": [
    {
     "name": "stdout",
     "output_type": "stream",
     "text": [
      "Couldn't find program: 'False'\n"
     ]
    }
   ],
   "source": [
    "%%script False\n",
    "# TODO: Add cosine similarity with TFIDF vectors\n",
    "\n",
    "from sklearn.feature_extraction.text import TfidfVectorizer\n",
    "from sklearn.metrics.pairwise import linear_kernel\n",
    "tfidf = TfidfVectorizer(min_df=1).fit_transform(df[\"authors\"])\n",
    "\n",
    "# Finds similarity of first vector compared to every other, see \n",
    "# https://stackoverflow.com/questions/12118720/python-tf-idf-cosine-to-find-document-similarity\n",
    "cosine_similarities = linear_kernel(tfidf[0:1], tfidf).flatten()\n",
    "related_docs_indices = cosine_similarities.argsort()[:-5:-1]\n",
    "related_docs_indices"
   ]
  },
  {
   "cell_type": "code",
   "execution_count": 20,
   "metadata": {},
   "outputs": [],
   "source": [
    "from truthfinder import TruthFinder"
   ]
  },
  {
   "cell_type": "code",
   "execution_count": 21,
   "metadata": {},
   "outputs": [],
   "source": [
    "finder = TruthFinder(df.copy(), \n",
    "                     fact=\"authors\", \n",
    "                     obj=\"isbn\")\n",
    "\n",
    "result = finder.compute()"
   ]
  },
  {
   "cell_type": "code",
   "execution_count": 22,
   "metadata": {},
   "outputs": [],
   "source": [
    "# Saving results\n",
    "result.to_csv(\"./data/results/truth.csv\", index=False)\n",
    "finder.df.to_csv(\"./data/results/complete.csv\", index=False)"
   ]
  },
  {
   "cell_type": "code",
   "execution_count": 27,
   "metadata": {},
   "outputs": [
    {
     "data": {
      "text/html": [
       "<div>\n",
       "<style scoped>\n",
       "    .dataframe tbody tr th:only-of-type {\n",
       "        vertical-align: middle;\n",
       "    }\n",
       "\n",
       "    .dataframe tbody tr th {\n",
       "        vertical-align: top;\n",
       "    }\n",
       "\n",
       "    .dataframe thead th {\n",
       "        text-align: right;\n",
       "    }\n",
       "</style>\n",
       "<table border=\"1\" class=\"dataframe\">\n",
       "  <thead>\n",
       "    <tr style=\"text-align: right;\">\n",
       "      <th></th>\n",
       "      <th>source</th>\n",
       "      <th>isbn</th>\n",
       "      <th>title</th>\n",
       "      <th>authors</th>\n",
       "      <th>trust</th>\n",
       "      <th>confidence</th>\n",
       "    </tr>\n",
       "  </thead>\n",
       "  <tbody>\n",
       "    <tr>\n",
       "      <th>33308</th>\n",
       "      <td>textbooksnow</td>\n",
       "      <td>0131420445</td>\n",
       "      <td>mips assembly language programming</td>\n",
       "      <td>britton</td>\n",
       "      <td>0.847107</td>\n",
       "      <td>0.782089</td>\n",
       "    </tr>\n",
       "    <tr>\n",
       "      <th>33317</th>\n",
       "      <td>sandy chong</td>\n",
       "      <td>0131420445</td>\n",
       "      <td>mips assembly language programming</td>\n",
       "      <td>britton robert l</td>\n",
       "      <td>0.946842</td>\n",
       "      <td>0.927160</td>\n",
       "    </tr>\n",
       "    <tr>\n",
       "      <th>33320</th>\n",
       "      <td>englishbookservice.com gti gmbh</td>\n",
       "      <td>0131420445</td>\n",
       "      <td>mips assembly language programming</td>\n",
       "      <td>britton robert l</td>\n",
       "      <td>0.982351</td>\n",
       "      <td>0.927160</td>\n",
       "    </tr>\n",
       "    <tr>\n",
       "      <th>33313</th>\n",
       "      <td>textbookxdotcom</td>\n",
       "      <td>0131420445</td>\n",
       "      <td>mips assembly language programming</td>\n",
       "      <td>robert britton</td>\n",
       "      <td>0.874133</td>\n",
       "      <td>0.951676</td>\n",
       "    </tr>\n",
       "    <tr>\n",
       "      <th>33315</th>\n",
       "      <td>odeon books</td>\n",
       "      <td>0131420445</td>\n",
       "      <td>mips assembly language programming</td>\n",
       "      <td>robert britton</td>\n",
       "      <td>0.984901</td>\n",
       "      <td>0.951676</td>\n",
       "    </tr>\n",
       "    <tr>\n",
       "      <th>33316</th>\n",
       "      <td>papamedia.com</td>\n",
       "      <td>0131420445</td>\n",
       "      <td>mips assembly language programming</td>\n",
       "      <td>robert britton</td>\n",
       "      <td>0.918755</td>\n",
       "      <td>0.951676</td>\n",
       "    </tr>\n",
       "    <tr>\n",
       "      <th>33310</th>\n",
       "      <td>indoo.com</td>\n",
       "      <td>0131420445</td>\n",
       "      <td>mips assembly language programming</td>\n",
       "      <td>britton robert</td>\n",
       "      <td>0.936138</td>\n",
       "      <td>0.984816</td>\n",
       "    </tr>\n",
       "    <tr>\n",
       "      <th>33311</th>\n",
       "      <td>a1books</td>\n",
       "      <td>0131420445</td>\n",
       "      <td>mips assembly language programming</td>\n",
       "      <td>britton robert</td>\n",
       "      <td>0.949081</td>\n",
       "      <td>0.984816</td>\n",
       "    </tr>\n",
       "    <tr>\n",
       "      <th>33312</th>\n",
       "      <td>caiman</td>\n",
       "      <td>0131420445</td>\n",
       "      <td>mips assembly language program</td>\n",
       "      <td>britton robert</td>\n",
       "      <td>0.943724</td>\n",
       "      <td>0.984816</td>\n",
       "    </tr>\n",
       "    <tr>\n",
       "      <th>33314</th>\n",
       "      <td>books2anywhere.com</td>\n",
       "      <td>0131420445</td>\n",
       "      <td>mips assembly language programming</td>\n",
       "      <td>britton robert</td>\n",
       "      <td>0.981212</td>\n",
       "      <td>0.984816</td>\n",
       "    </tr>\n",
       "    <tr>\n",
       "      <th>33319</th>\n",
       "      <td>revaluation books</td>\n",
       "      <td>0131420445</td>\n",
       "      <td>mips assembly language programming</td>\n",
       "      <td>britton robert</td>\n",
       "      <td>0.956729</td>\n",
       "      <td>0.984816</td>\n",
       "    </tr>\n",
       "  </tbody>\n",
       "</table>\n",
       "</div>"
      ],
      "text/plain": [
       "                                source        isbn  \\\n",
       "33308                     textbooksnow  0131420445   \n",
       "33317                      sandy chong  0131420445   \n",
       "33320  englishbookservice.com gti gmbh  0131420445   \n",
       "33313                  textbookxdotcom  0131420445   \n",
       "33315                      odeon books  0131420445   \n",
       "33316                    papamedia.com  0131420445   \n",
       "33310                        indoo.com  0131420445   \n",
       "33311                          a1books  0131420445   \n",
       "33312                           caiman  0131420445   \n",
       "33314               books2anywhere.com  0131420445   \n",
       "33319                revaluation books  0131420445   \n",
       "\n",
       "                                    title           authors     trust  \\\n",
       "33308  mips assembly language programming           britton  0.847107   \n",
       "33317  mips assembly language programming  britton robert l  0.946842   \n",
       "33320  mips assembly language programming  britton robert l  0.982351   \n",
       "33313  mips assembly language programming    robert britton  0.874133   \n",
       "33315  mips assembly language programming    robert britton  0.984901   \n",
       "33316  mips assembly language programming    robert britton  0.918755   \n",
       "33310  mips assembly language programming    britton robert  0.936138   \n",
       "33311  mips assembly language programming    britton robert  0.949081   \n",
       "33312      mips assembly language program    britton robert  0.943724   \n",
       "33314  mips assembly language programming    britton robert  0.981212   \n",
       "33319  mips assembly language programming    britton robert  0.956729   \n",
       "\n",
       "       confidence  \n",
       "33308    0.782089  \n",
       "33317    0.927160  \n",
       "33320    0.927160  \n",
       "33313    0.951676  \n",
       "33315    0.951676  \n",
       "33316    0.951676  \n",
       "33310    0.984816  \n",
       "33311    0.984816  \n",
       "33312    0.984816  \n",
       "33314    0.984816  \n",
       "33319    0.984816  "
      ]
     },
     "execution_count": 27,
     "metadata": {},
     "output_type": "execute_result"
    }
   ],
   "source": [
    "sl = finder.df[finder.df[\"isbn\"] == \"0131420445\"].sort_values(\"confidence\")\n",
    "sl"
   ]
  },
  {
   "cell_type": "code",
   "execution_count": 24,
   "metadata": {
    "scrolled": true
   },
   "outputs": [
    {
     "data": {
      "text/html": [
       "<div>\n",
       "<style scoped>\n",
       "    .dataframe tbody tr th:only-of-type {\n",
       "        vertical-align: middle;\n",
       "    }\n",
       "\n",
       "    .dataframe tbody tr th {\n",
       "        vertical-align: top;\n",
       "    }\n",
       "\n",
       "    .dataframe thead th {\n",
       "        text-align: right;\n",
       "    }\n",
       "</style>\n",
       "<table border=\"1\" class=\"dataframe\">\n",
       "  <thead>\n",
       "    <tr style=\"text-align: right;\">\n",
       "      <th></th>\n",
       "      <th>source</th>\n",
       "      <th>isbn</th>\n",
       "      <th>title</th>\n",
       "      <th>authors</th>\n",
       "      <th>trust</th>\n",
       "      <th>confidence</th>\n",
       "    </tr>\n",
       "  </thead>\n",
       "  <tbody>\n",
       "    <tr>\n",
       "      <th>17931</th>\n",
       "      <td>textbookxdotcom</td>\n",
       "      <td>9780073516677</td>\n",
       "      <td>computing essentials</td>\n",
       "      <td>oleary timothy j oleary linda i</td>\n",
       "      <td>0.874133</td>\n",
       "      <td>0.99686</td>\n",
       "    </tr>\n",
       "    <tr>\n",
       "      <th>17938</th>\n",
       "      <td>revaluation books</td>\n",
       "      <td>9780073516677</td>\n",
       "      <td>computing essentials 2007 complete edition</td>\n",
       "      <td>oleary timothy j oleary linda i</td>\n",
       "      <td>0.956729</td>\n",
       "      <td>0.99686</td>\n",
       "    </tr>\n",
       "    <tr>\n",
       "      <th>17922</th>\n",
       "      <td>collegebooksdirect.com</td>\n",
       "      <td>9780073516677</td>\n",
       "      <td>computing essentials</td>\n",
       "      <td>oleary timothy j oleary linda i</td>\n",
       "      <td>0.967471</td>\n",
       "      <td>0.99686</td>\n",
       "    </tr>\n",
       "    <tr>\n",
       "      <th>17932</th>\n",
       "      <td>caiman</td>\n",
       "      <td>9780073516677</td>\n",
       "      <td>computing essentials 2007</td>\n",
       "      <td>oleary timothy j oleary linda i</td>\n",
       "      <td>0.943724</td>\n",
       "      <td>0.99686</td>\n",
       "    </tr>\n",
       "  </tbody>\n",
       "</table>\n",
       "</div>"
      ],
      "text/plain": [
       "                       source           isbn  \\\n",
       "17931         textbookxdotcom  9780073516677   \n",
       "17938       revaluation books  9780073516677   \n",
       "17922  collegebooksdirect.com  9780073516677   \n",
       "17932                  caiman  9780073516677   \n",
       "\n",
       "                                            title  \\\n",
       "17931                        computing essentials   \n",
       "17938  computing essentials 2007 complete edition   \n",
       "17922                        computing essentials   \n",
       "17932                   computing essentials 2007   \n",
       "\n",
       "                               authors     trust  confidence  \n",
       "17931  oleary timothy j oleary linda i  0.874133     0.99686  \n",
       "17938  oleary timothy j oleary linda i  0.956729     0.99686  \n",
       "17922  oleary timothy j oleary linda i  0.967471     0.99686  \n",
       "17932  oleary timothy j oleary linda i  0.943724     0.99686  "
      ]
     },
     "execution_count": 24,
     "metadata": {},
     "output_type": "execute_result"
    }
   ],
   "source": [
    "sl = finder.df[finder.df[\"isbn\"] == \"9780073516677\"].sort_values(\"confidence\")\n",
    "sl[-5:-1]"
   ]
  },
  {
   "cell_type": "markdown",
   "metadata": {},
   "source": [
    "## TruthFinder Accuracy with respect to the Gold Standard"
   ]
  },
  {
   "cell_type": "code",
   "execution_count": 31,
   "metadata": {},
   "outputs": [],
   "source": [
    "# Create DF holding the GS authors and TF authors for matching\n",
    "matching = gs.copy()\n",
    "matching = matching.rename(columns = {'authors':'authors_gs'})\n",
    "matching = pd.merge(matching, result, on=['isbn']) # Join\n",
    "matching = matching.rename(columns = {'authors':'authors_tf'})\n",
    "matching = matching[[\"isbn\", \"authors_gs\", \"authors_tf\"]] # Select"
   ]
  },
  {
   "cell_type": "code",
   "execution_count": 32,
   "metadata": {},
   "outputs": [
    {
     "name": "stdout",
     "output_type": "stream",
     "text": [
      "0.9021033099852027\n"
     ]
    }
   ],
   "source": [
    "from strsimpy.cosine import Cosine\n",
    "\n",
    "def similarity(s1, s2):\n",
    "    cosine = Cosine(2)\n",
    "    p0 = cosine.get_profile(s1)\n",
    "    p1 = cosine.get_profile(s2)\n",
    "    return cosine.similarity_profiles(p0, p1)\n",
    "\n",
    "tf_accuracy = 0.0\n",
    "\n",
    "matching['accuracy'] = matching.apply(lambda row: \n",
    "                                      similarity(row[\"authors_gs\"], \n",
    "                                                 row[\"authors_tf\"]), \n",
    "                                      axis = 1)        \n",
    "tf_accuracy = matching.accuracy.mean()"
   ]
  },
  {
   "cell_type": "code",
   "execution_count": 64,
   "metadata": {},
   "outputs": [
    {
     "data": {
      "text/plain": [
       "<matplotlib.legend.Legend at 0x18b041b9888>"
      ]
     },
     "execution_count": 64,
     "metadata": {},
     "output_type": "execute_result"
    },
    {
     "data": {
      "image/png": "[encoded data removed]",
      "text/plain": [
       "<Figure size 432x288 with 1 Axes>"
      ]
     },
     "metadata": {},
     "output_type": "display_data"
    }
   ],
   "source": [
    "ax = sns.distplot(matching.accuracy);\n",
    "ax.axvline(tf_accuracy, color='g')\n",
    "plt.legend({'mean accuracy': tf_accuracy})"
   ]
  },
  {
   "cell_type": "code",
   "execution_count": 65,
   "metadata": {},
   "outputs": [
    {
     "data": {
      "text/plain": [
       "<matplotlib.legend.Legend at 0x18b04224388>"
      ]
     },
     "execution_count": 65,
     "metadata": {},
     "output_type": "execute_result"
    },
    {
     "data": {
      "image/png": "[encoded data removed]",
      "text/plain": [
       "<Figure size 432x288 with 1 Axes>"
      ]
     },
     "metadata": {},
     "output_type": "display_data"
    }
   ],
   "source": [
    "mean_trust = result.drop_duplicates(\"source\").trust.mean()\n",
    "\n",
    "ax = sns.distplot(result.drop_duplicates(\"source\").trust);\n",
    "ax.axvline(mean_trust, color='g')\n",
    "plt.legend({'mean trust': mean_trust})"
   ]
  },
  {
   "cell_type": "markdown",
   "metadata": {},
   "source": [
    "### Top/Worst 5 matching instances"
   ]
  },
  {
   "cell_type": "code",
   "execution_count": 54,
   "metadata": {},
   "outputs": [
    {
     "data": {
      "text/html": [
       "<div>\n",
       "<style scoped>\n",
       "    .dataframe tbody tr th:only-of-type {\n",
       "        vertical-align: middle;\n",
       "    }\n",
       "\n",
       "    .dataframe tbody tr th {\n",
       "        vertical-align: top;\n",
       "    }\n",
       "\n",
       "    .dataframe thead th {\n",
       "        text-align: right;\n",
       "    }\n",
       "</style>\n",
       "<table border=\"1\" class=\"dataframe\">\n",
       "  <thead>\n",
       "    <tr style=\"text-align: right;\">\n",
       "      <th></th>\n",
       "      <th>isbn</th>\n",
       "      <th>authors_gs</th>\n",
       "      <th>authors_tf</th>\n",
       "      <th>accuracy</th>\n",
       "    </tr>\n",
       "  </thead>\n",
       "  <tbody>\n",
       "    <tr>\n",
       "      <th>2</th>\n",
       "      <td>9780072922363</td>\n",
       "      <td>hutton david v</td>\n",
       "      <td>hutton david v</td>\n",
       "      <td>1.0</td>\n",
       "    </tr>\n",
       "    <tr>\n",
       "      <th>32</th>\n",
       "      <td>1558601368</td>\n",
       "      <td>przybylski steven a</td>\n",
       "      <td>przybylski steven a</td>\n",
       "      <td>1.0</td>\n",
       "    </tr>\n",
       "    <tr>\n",
       "      <th>40</th>\n",
       "      <td>0750694998</td>\n",
       "      <td>pease robert a</td>\n",
       "      <td>pease robert a</td>\n",
       "      <td>1.0</td>\n",
       "    </tr>\n",
       "    <tr>\n",
       "      <th>44</th>\n",
       "      <td>0750656832</td>\n",
       "      <td>pooley rob wilcox pauline</td>\n",
       "      <td>pooley rob wilcox pauline</td>\n",
       "      <td>1.0</td>\n",
       "    </tr>\n",
       "    <tr>\n",
       "      <th>58</th>\n",
       "      <td>0321228103</td>\n",
       "      <td>nantz brian</td>\n",
       "      <td>nantz brian</td>\n",
       "      <td>1.0</td>\n",
       "    </tr>\n",
       "  </tbody>\n",
       "</table>\n",
       "</div>"
      ],
      "text/plain": [
       "             isbn                 authors_gs                 authors_tf  \\\n",
       "2   9780072922363             hutton david v             hutton david v   \n",
       "32     1558601368        przybylski steven a        przybylski steven a   \n",
       "40     0750694998             pease robert a             pease robert a   \n",
       "44     0750656832  pooley rob wilcox pauline  pooley rob wilcox pauline   \n",
       "58     0321228103                nantz brian                nantz brian   \n",
       "\n",
       "    accuracy  \n",
       "2        1.0  \n",
       "32       1.0  \n",
       "40       1.0  \n",
       "44       1.0  \n",
       "58       1.0  "
      ]
     },
     "metadata": {},
     "output_type": "display_data"
    },
    {
     "data": {
      "text/html": [
       "<div>\n",
       "<style scoped>\n",
       "    .dataframe tbody tr th:only-of-type {\n",
       "        vertical-align: middle;\n",
       "    }\n",
       "\n",
       "    .dataframe tbody tr th {\n",
       "        vertical-align: top;\n",
       "    }\n",
       "\n",
       "    .dataframe thead th {\n",
       "        text-align: right;\n",
       "    }\n",
       "</style>\n",
       "<table border=\"1\" class=\"dataframe\">\n",
       "  <thead>\n",
       "    <tr style=\"text-align: right;\">\n",
       "      <th></th>\n",
       "      <th>isbn</th>\n",
       "      <th>authors_gs</th>\n",
       "      <th>authors_tf</th>\n",
       "      <th>accuracy</th>\n",
       "    </tr>\n",
       "  </thead>\n",
       "  <tbody>\n",
       "    <tr>\n",
       "      <th>14</th>\n",
       "      <td>1558609016</td>\n",
       "      <td>han jiawei kamber micheline</td>\n",
       "      <td>han</td>\n",
       "      <td>0.277350</td>\n",
       "    </tr>\n",
       "    <tr>\n",
       "      <th>6</th>\n",
       "      <td>9780072232172</td>\n",
       "      <td>suhanovs dennis</td>\n",
       "      <td>dennis suhanovs press certification certificat...</td>\n",
       "      <td>0.389381</td>\n",
       "    </tr>\n",
       "    <tr>\n",
       "      <th>99</th>\n",
       "      <td>1555582745</td>\n",
       "      <td>moore martin hancock steven</td>\n",
       "      <td>moore</td>\n",
       "      <td>0.392232</td>\n",
       "    </tr>\n",
       "    <tr>\n",
       "      <th>46</th>\n",
       "      <td>044450673X</td>\n",
       "      <td>jenssen c b kvamdal t andersson h i ecer a per...</td>\n",
       "      <td>jenssen c b</td>\n",
       "      <td>0.451447</td>\n",
       "    </tr>\n",
       "    <tr>\n",
       "      <th>36</th>\n",
       "      <td>1555582605</td>\n",
       "      <td>fortier paul j michel howard e</td>\n",
       "      <td>fortierpaul</td>\n",
       "      <td>0.511166</td>\n",
       "    </tr>\n",
       "  </tbody>\n",
       "</table>\n",
       "</div>"
      ],
      "text/plain": [
       "             isbn                                         authors_gs  \\\n",
       "14     1558609016                        han jiawei kamber micheline   \n",
       "6   9780072232172                                    suhanovs dennis   \n",
       "99     1555582745                        moore martin hancock steven   \n",
       "46     044450673X  jenssen c b kvamdal t andersson h i ecer a per...   \n",
       "36     1555582605                     fortier paul j michel howard e   \n",
       "\n",
       "                                           authors_tf  accuracy  \n",
       "14                                                han  0.277350  \n",
       "6   dennis suhanovs press certification certificat...  0.389381  \n",
       "99                                              moore  0.392232  \n",
       "46                                        jenssen c b  0.451447  \n",
       "36                                        fortierpaul  0.511166  "
      ]
     },
     "metadata": {},
     "output_type": "display_data"
    }
   ],
   "source": [
    "top5 = matching.nlargest(5,'accuracy')\n",
    "worst5 = matching.nsmallest(5,'accuracy')\n",
    "\n",
    "display(top5)\n",
    "display(worst5)"
   ]
  },
  {
   "cell_type": "markdown",
   "metadata": {},
   "source": [
    "### Top/Worst 10 Sources"
   ]
  },
  {
   "cell_type": "code",
   "execution_count": 56,
   "metadata": {
    "scrolled": false
   },
   "outputs": [
    {
     "data": {
      "text/html": [
       "<div>\n",
       "<style scoped>\n",
       "    .dataframe tbody tr th:only-of-type {\n",
       "        vertical-align: middle;\n",
       "    }\n",
       "\n",
       "    .dataframe tbody tr th {\n",
       "        vertical-align: top;\n",
       "    }\n",
       "\n",
       "    .dataframe thead th {\n",
       "        text-align: right;\n",
       "    }\n",
       "</style>\n",
       "<table border=\"1\" class=\"dataframe\">\n",
       "  <thead>\n",
       "    <tr style=\"text-align: right;\">\n",
       "      <th></th>\n",
       "      <th>source</th>\n",
       "      <th>trust</th>\n",
       "    </tr>\n",
       "  </thead>\n",
       "  <tbody>\n",
       "    <tr>\n",
       "      <th>488</th>\n",
       "      <td>spine and crown</td>\n",
       "      <td>1.000000</td>\n",
       "    </tr>\n",
       "    <tr>\n",
       "      <th>47</th>\n",
       "      <td>gallowglass books</td>\n",
       "      <td>1.000000</td>\n",
       "    </tr>\n",
       "    <tr>\n",
       "      <th>253</th>\n",
       "      <td>reuben goldberg books</td>\n",
       "      <td>1.000000</td>\n",
       "    </tr>\n",
       "    <tr>\n",
       "      <th>476</th>\n",
       "      <td>er books</td>\n",
       "      <td>1.000000</td>\n",
       "    </tr>\n",
       "    <tr>\n",
       "      <th>257</th>\n",
       "      <td>bigcat books</td>\n",
       "      <td>1.000000</td>\n",
       "    </tr>\n",
       "    <tr>\n",
       "      <th>259</th>\n",
       "      <td>a novel idea bookstore</td>\n",
       "      <td>1.000000</td>\n",
       "    </tr>\n",
       "    <tr>\n",
       "      <th>49</th>\n",
       "      <td>gail p. kennon, book-comber</td>\n",
       "      <td>0.999999</td>\n",
       "    </tr>\n",
       "    <tr>\n",
       "      <th>11</th>\n",
       "      <td>aa42.com</td>\n",
       "      <td>0.999999</td>\n",
       "    </tr>\n",
       "    <tr>\n",
       "      <th>322</th>\n",
       "      <td>chanda's bargain books</td>\n",
       "      <td>0.999998</td>\n",
       "    </tr>\n",
       "    <tr>\n",
       "      <th>899</th>\n",
       "      <td>odonnell's general store</td>\n",
       "      <td>0.999997</td>\n",
       "    </tr>\n",
       "  </tbody>\n",
       "</table>\n",
       "</div>"
      ],
      "text/plain": [
       "                          source     trust\n",
       "488              spine and crown  1.000000\n",
       "47             gallowglass books  1.000000\n",
       "253        reuben goldberg books  1.000000\n",
       "476                     er books  1.000000\n",
       "257                 bigcat books  1.000000\n",
       "259       a novel idea bookstore  1.000000\n",
       "49   gail p. kennon, book-comber  0.999999\n",
       "11                      aa42.com  0.999999\n",
       "322       chanda's bargain books  0.999998\n",
       "899     odonnell's general store  0.999997"
      ]
     },
     "metadata": {},
     "output_type": "display_data"
    },
    {
     "data": {
      "text/html": [
       "<div>\n",
       "<style scoped>\n",
       "    .dataframe tbody tr th:only-of-type {\n",
       "        vertical-align: middle;\n",
       "    }\n",
       "\n",
       "    .dataframe tbody tr th {\n",
       "        vertical-align: top;\n",
       "    }\n",
       "\n",
       "    .dataframe thead th {\n",
       "        text-align: right;\n",
       "    }\n",
       "</style>\n",
       "<table border=\"1\" class=\"dataframe\">\n",
       "  <thead>\n",
       "    <tr style=\"text-align: right;\">\n",
       "      <th></th>\n",
       "      <th>source</th>\n",
       "      <th>trust</th>\n",
       "    </tr>\n",
       "  </thead>\n",
       "  <tbody>\n",
       "    <tr>\n",
       "      <th>894</th>\n",
       "      <td>hyannisport books</td>\n",
       "      <td>0.648187</td>\n",
       "    </tr>\n",
       "    <tr>\n",
       "      <th>960</th>\n",
       "      <td>valorebooks</td>\n",
       "      <td>0.695493</td>\n",
       "    </tr>\n",
       "    <tr>\n",
       "      <th>1166</th>\n",
       "      <td>countless pages book store</td>\n",
       "      <td>0.800402</td>\n",
       "    </tr>\n",
       "    <tr>\n",
       "      <th>1026</th>\n",
       "      <td>diane publishing co.</td>\n",
       "      <td>0.823743</td>\n",
       "    </tr>\n",
       "    <tr>\n",
       "      <th>167</th>\n",
       "      <td>opoe-abe books</td>\n",
       "      <td>0.826992</td>\n",
       "    </tr>\n",
       "    <tr>\n",
       "      <th>20</th>\n",
       "      <td>technischer overseas pvt. ltd.</td>\n",
       "      <td>0.832194</td>\n",
       "    </tr>\n",
       "    <tr>\n",
       "      <th>446</th>\n",
       "      <td>recycle bookstore</td>\n",
       "      <td>0.836511</td>\n",
       "    </tr>\n",
       "    <tr>\n",
       "      <th>1020</th>\n",
       "      <td>veda's marketing agencies</td>\n",
       "      <td>0.843007</td>\n",
       "    </tr>\n",
       "    <tr>\n",
       "      <th>161</th>\n",
       "      <td>textbooksnow</td>\n",
       "      <td>0.847107</td>\n",
       "    </tr>\n",
       "    <tr>\n",
       "      <th>501</th>\n",
       "      <td>keen northwest</td>\n",
       "      <td>0.859126</td>\n",
       "    </tr>\n",
       "  </tbody>\n",
       "</table>\n",
       "</div>"
      ],
      "text/plain": [
       "                              source     trust\n",
       "894                hyannisport books  0.648187\n",
       "960                      valorebooks  0.695493\n",
       "1166      countless pages book store  0.800402\n",
       "1026            diane publishing co.  0.823743\n",
       "167                   opoe-abe books  0.826992\n",
       "20    technischer overseas pvt. ltd.  0.832194\n",
       "446                recycle bookstore  0.836511\n",
       "1020       veda's marketing agencies  0.843007\n",
       "161                     textbooksnow  0.847107\n",
       "501                   keen northwest  0.859126"
      ]
     },
     "metadata": {},
     "output_type": "display_data"
    }
   ],
   "source": [
    "top_sources = result.drop_duplicates(\"source\").nlargest(10, \"trust\")[[\"source\", \"trust\"]]\n",
    "worst_sources = result.drop_duplicates(\"source\").nsmallest(10, \"trust\")[[\"source\", \"trust\"]]\n",
    "\n",
    "display(top_sources)\n",
    "display(worst_sources)"
   ]
  },
  {
   "cell_type": "markdown",
   "metadata": {},
   "source": [
    "### TruthFinder hyperparameters search"
   ]
  },
  {
   "cell_type": "code",
   "execution_count": 72,
   "metadata": {},
   "outputs": [
    {
     "name": "stdout",
     "output_type": "stream",
     "text": [
      "Params: (0.1, 0.3), Accuracy: 0.8963326824632267\n",
      "Params: (0.1, 0.5), Accuracy: 0.9021033099852027\n",
      "Params: (0.1, 0.7), Accuracy: 0.9130993198624381\n",
      "Params: (0.3, 0.3), Accuracy: 0.8963326824632267\n",
      "Params: (0.3, 0.5), Accuracy: 0.9021033099852027\n",
      "Params: (0.3, 0.7), Accuracy: 0.9130993198624381\n",
      "Params: (0.5, 0.3), Accuracy: 0.8963326824632267\n",
      "Params: (0.5, 0.5), Accuracy: 0.9021033099852027\n",
      "Params: (0.5, 0.7), Accuracy: 0.9130993198624381\n"
     ]
    }
   ],
   "source": [
    "import itertools\n",
    "\n",
    "dampening = [0.1, 0.3, 0.5]\n",
    "relatedness = [0.3, 0.5, 0.7]\n",
    "\n",
    "search_results = []\n",
    "\n",
    "for param in itertools.product(*[dampening, relatedness]):\n",
    "    finder = TruthFinder(df.copy(), \n",
    "                     fact=\"authors\", \n",
    "                     obj=\"isbn\",\n",
    "                     dampening_factor = param[0],\n",
    "                     relatedness_factor = param[1])\n",
    "\n",
    "    result = finder.compute()\n",
    "    \n",
    "    matching = gs.copy()\n",
    "    matching = matching.rename(columns = {'authors':'authors_gs'})\n",
    "    matching = pd.merge(matching, result, on=['isbn']) # Join\n",
    "    matching = matching.rename(columns = {'authors':'authors_tf'})\n",
    "    matching = matching[[\"isbn\", \"authors_gs\", \"authors_tf\"]] # Select\n",
    "    \n",
    "    matching['accuracy'] = matching.apply(lambda row: \n",
    "                                      similarity(row[\"authors_gs\"], \n",
    "                                                 row[\"authors_tf\"]), \n",
    "                                      axis = 1)        \n",
    "    accuracy = matching.accuracy.mean()\n",
    "    search_results.append({\"params\": param, \"accuracy\": matching.accuracy.copy()})\n",
    "    print(\"Params: {}, Accuracy: {}\".format(param, accuracy))"
   ]
  },
  {
   "cell_type": "code",
   "execution_count": 97,
   "metadata": {},
   "outputs": [
    {
     "data": {
      "image/png": "[encoded data removed]",
      "text/plain": [
       "<Figure size 432x288 with 1 Axes>"
      ]
     },
     "metadata": {},
     "output_type": "display_data"
    }
   ],
   "source": [
    "ax = plt.figure()\n",
    "\n",
    "for res in search_results:\n",
    "    sns.distplot(res[\"accuracy\"], hist=False, \n",
    "                 label = \"γ, ρ = {}, acc = {:0.2f}\".format(res[\"params\"], res[\"accuracy\"].mean()))\n",
    "    "
   ]
  }
 ],
 "metadata": {
  "kernelspec": {
   "display_name": "Python 3",
   "language": "python",
   "name": "python3"
  },
  "language_info": {
   "codemirror_mode": {
    "name": "ipython",
    "version": 3
   },
   "file_extension": ".py",
   "mimetype": "text/x-python",
   "name": "python",
   "nbconvert_exporter": "python",
   "pygments_lexer": "ipython3",
   "version": "3.7.6"
  }
 },
 "nbformat": 4,
 "nbformat_minor": 4
}
