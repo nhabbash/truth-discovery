{
 "cells": [
  {
   "cell_type": "code",
   "execution_count": 1,
   "metadata": {},
   "outputs": [],
   "source": [
    "import pandas as pd\n",
    "import seaborn as sns\n",
    "import matplotlib.pyplot as plt\n",
    "import re\n",
    "import numpy as np\n",
    "from html import unescape"
   ]
  },
  {
   "cell_type": "code",
   "execution_count": 2,
   "metadata": {},
   "outputs": [],
   "source": [
    "df = pd.read_csv(\"./data/book.txt\", \n",
    "                   sep='\\t', \n",
    "                   lineterminator='\\n', \n",
    "                   header=None, \n",
    "                   names=[\"source\", \"isbn\", \"title\", \"authors\"])"
   ]
  },
  {
   "cell_type": "code",
   "execution_count": 3,
   "metadata": {
    "scrolled": true
   },
   "outputs": [
    {
     "data": {
      "text/html": [
       "<div>\n",
       "<style scoped>\n",
       "    .dataframe tbody tr th:only-of-type {\n",
       "        vertical-align: middle;\n",
       "    }\n",
       "\n",
       "    .dataframe tbody tr th {\n",
       "        vertical-align: top;\n",
       "    }\n",
       "\n",
       "    .dataframe thead th {\n",
       "        text-align: right;\n",
       "    }\n",
       "</style>\n",
       "<table border=\"1\" class=\"dataframe\">\n",
       "  <thead>\n",
       "    <tr style=\"text-align: right;\">\n",
       "      <th></th>\n",
       "      <th>source</th>\n",
       "      <th>isbn</th>\n",
       "      <th>title</th>\n",
       "      <th>authors</th>\n",
       "    </tr>\n",
       "  </thead>\n",
       "  <tbody>\n",
       "    <tr>\n",
       "      <th>0</th>\n",
       "      <td>eCampus.com</td>\n",
       "      <td>0201853949</td>\n",
       "      <td>The art Of Computer Programming, Fascicle 3: G...</td>\n",
       "      <td>Not Available\\r</td>\n",
       "    </tr>\n",
       "    <tr>\n",
       "      <th>1</th>\n",
       "      <td>Indoo.com</td>\n",
       "      <td>0201853949</td>\n",
       "      <td>Art of Computer Programming, Volume 4, Fascicl...</td>\n",
       "      <td>Knuth, Donald E.\\r</td>\n",
       "    </tr>\n",
       "    <tr>\n",
       "      <th>2</th>\n",
       "      <td>textbookxdotcom</td>\n",
       "      <td>0201853949</td>\n",
       "      <td>The 'art Of Computer Programming, Fascicle 3 G...</td>\n",
       "      <td>\\r</td>\n",
       "    </tr>\n",
       "    <tr>\n",
       "      <th>3</th>\n",
       "      <td>A1Books</td>\n",
       "      <td>0201853949</td>\n",
       "      <td>The Art of Computer Programming, Volume 4, Fas...</td>\n",
       "      <td>Knuth, Donald E.\\r</td>\n",
       "    </tr>\n",
       "    <tr>\n",
       "      <th>4</th>\n",
       "      <td>textbooksNow</td>\n",
       "      <td>0201853949</td>\n",
       "      <td>Art of Computer Programming</td>\n",
       "      <td>Knuth\\r</td>\n",
       "    </tr>\n",
       "  </tbody>\n",
       "</table>\n",
       "</div>"
      ],
      "text/plain": [
       "            source        isbn  \\\n",
       "0      eCampus.com  0201853949   \n",
       "1        Indoo.com  0201853949   \n",
       "2  textbookxdotcom  0201853949   \n",
       "3          A1Books  0201853949   \n",
       "4     textbooksNow  0201853949   \n",
       "\n",
       "                                               title             authors  \n",
       "0  The art Of Computer Programming, Fascicle 3: G...     Not Available\\r  \n",
       "1  Art of Computer Programming, Volume 4, Fascicl...  Knuth, Donald E.\\r  \n",
       "2  The 'art Of Computer Programming, Fascicle 3 G...                  \\r  \n",
       "3  The Art of Computer Programming, Volume 4, Fas...  Knuth, Donald E.\\r  \n",
       "4                        Art of Computer Programming             Knuth\\r  "
      ]
     },
     "execution_count": 3,
     "metadata": {},
     "output_type": "execute_result"
    }
   ],
   "source": [
    "df.head()"
   ]
  },
  {
   "cell_type": "code",
   "execution_count": 4,
   "metadata": {},
   "outputs": [
    {
     "data": {
      "text/html": [
       "<div>\n",
       "<style scoped>\n",
       "    .dataframe tbody tr th:only-of-type {\n",
       "        vertical-align: middle;\n",
       "    }\n",
       "\n",
       "    .dataframe tbody tr th {\n",
       "        vertical-align: top;\n",
       "    }\n",
       "\n",
       "    .dataframe thead th {\n",
       "        text-align: right;\n",
       "    }\n",
       "</style>\n",
       "<table border=\"1\" class=\"dataframe\">\n",
       "  <thead>\n",
       "    <tr style=\"text-align: right;\">\n",
       "      <th></th>\n",
       "      <th>source</th>\n",
       "      <th>isbn</th>\n",
       "      <th>title</th>\n",
       "      <th>authors</th>\n",
       "    </tr>\n",
       "  </thead>\n",
       "  <tbody>\n",
       "    <tr>\n",
       "      <th>count</th>\n",
       "      <td>33971</td>\n",
       "      <td>33971</td>\n",
       "      <td>33968</td>\n",
       "      <td>33971</td>\n",
       "    </tr>\n",
       "    <tr>\n",
       "      <th>unique</th>\n",
       "      <td>895</td>\n",
       "      <td>1265</td>\n",
       "      <td>11095</td>\n",
       "      <td>9627</td>\n",
       "    </tr>\n",
       "    <tr>\n",
       "      <th>top</th>\n",
       "      <td>A1Books</td>\n",
       "      <td>0321263588</td>\n",
       "      <td>Modern Database Management</td>\n",
       "      <td>\\r</td>\n",
       "    </tr>\n",
       "    <tr>\n",
       "      <th>freq</th>\n",
       "      <td>2403</td>\n",
       "      <td>159</td>\n",
       "      <td>90</td>\n",
       "      <td>713</td>\n",
       "    </tr>\n",
       "  </tbody>\n",
       "</table>\n",
       "</div>"
      ],
      "text/plain": [
       "         source        isbn                       title authors\n",
       "count     33971       33971                       33968   33971\n",
       "unique      895        1265                       11095    9627\n",
       "top     A1Books  0321263588  Modern Database Management      \\r\n",
       "freq       2403         159                          90     713"
      ]
     },
     "execution_count": 4,
     "metadata": {},
     "output_type": "execute_result"
    }
   ],
   "source": [
    "df.describe()"
   ]
  },
  {
   "cell_type": "markdown",
   "metadata": {},
   "source": [
    "# Preprocessing"
   ]
  },
  {
   "cell_type": "code",
   "execution_count": 5,
   "metadata": {},
   "outputs": [],
   "source": [
    "def clean(df):\n",
    "    # Unescape HTML left over from scraping\n",
    "    df.authors = df.authors.apply(unescape)\n",
    "    df.title = df.title.apply(lambda x: unescape(str(x)))\n",
    "    # Lowercase \n",
    "    df[\"authors\"] = df[\"authors\"].str.lower()\n",
    "    df[\"title\"] = df[\"title\"].str.lower()\n",
    "    df[\"source\"] = df[\"source\"].str.lower()\n",
    "    # Removes parenthesis from author list\n",
    "    df[\"authors\"] = df[\"authors\"].str.replace('\\((.*?)\\)','')\n",
    "    # Replaces | in author list with spaces\n",
    "    df[\"authors\"] = df[\"authors\"].str.replace('\\|',' ')\n",
    "    # Special characters removal (removes all characters except )\n",
    "    #df[\"title\"] = df[\"title\"].str.replace('[^\\w\\s]|\\\\r','')\n",
    "    #df[\"authors\"] = df[\"authors\"].str.replace('[^\\w\\s]|\\\\r','')\n",
    "    # Uniformize missing values\n",
    "    df[\"authors\"] = df[\"authors\"].str.replace('not available','')\n",
    "    df[\"authors\"] = df[\"authors\"].replace(r'^\\s*$', np.nan, regex=True)\n",
    "    # Remove doubled whitespaces\n",
    "    df.authors = df.authors.replace('\\s+', ' ', regex=True)\n",
    "    df.title = df.title.replace('\\s+', ' ', regex=True)\n",
    "    "
   ]
  },
  {
   "cell_type": "code",
   "execution_count": 6,
   "metadata": {},
   "outputs": [],
   "source": [
    "clean(df)"
   ]
  },
  {
   "cell_type": "code",
   "execution_count": 7,
   "metadata": {},
   "outputs": [
    {
     "data": {
      "text/plain": [
       "source       0\n",
       "isbn         0\n",
       "title        0\n",
       "authors    743\n",
       "dtype: int64"
      ]
     },
     "execution_count": 7,
     "metadata": {},
     "output_type": "execute_result"
    }
   ],
   "source": [
    "df.isnull().sum()"
   ]
  },
  {
   "cell_type": "code",
   "execution_count": 8,
   "metadata": {},
   "outputs": [
    {
     "data": {
      "text/html": [
       "<div>\n",
       "<style scoped>\n",
       "    .dataframe tbody tr th:only-of-type {\n",
       "        vertical-align: middle;\n",
       "    }\n",
       "\n",
       "    .dataframe tbody tr th {\n",
       "        vertical-align: top;\n",
       "    }\n",
       "\n",
       "    .dataframe thead th {\n",
       "        text-align: right;\n",
       "    }\n",
       "</style>\n",
       "<table border=\"1\" class=\"dataframe\">\n",
       "  <thead>\n",
       "    <tr style=\"text-align: right;\">\n",
       "      <th></th>\n",
       "      <th>source</th>\n",
       "      <th>isbn</th>\n",
       "      <th>title</th>\n",
       "      <th>authors</th>\n",
       "    </tr>\n",
       "  </thead>\n",
       "  <tbody>\n",
       "    <tr>\n",
       "      <th>count</th>\n",
       "      <td>33971</td>\n",
       "      <td>33971</td>\n",
       "      <td>33971</td>\n",
       "      <td>33228</td>\n",
       "    </tr>\n",
       "    <tr>\n",
       "      <th>unique</th>\n",
       "      <td>894</td>\n",
       "      <td>1265</td>\n",
       "      <td>9255</td>\n",
       "      <td>8603</td>\n",
       "    </tr>\n",
       "    <tr>\n",
       "      <th>top</th>\n",
       "      <td>a1books</td>\n",
       "      <td>0321263588</td>\n",
       "      <td>computer networking and the internet</td>\n",
       "      <td>meyers, scott</td>\n",
       "    </tr>\n",
       "    <tr>\n",
       "      <th>freq</th>\n",
       "      <td>2403</td>\n",
       "      <td>159</td>\n",
       "      <td>108</td>\n",
       "      <td>128</td>\n",
       "    </tr>\n",
       "  </tbody>\n",
       "</table>\n",
       "</div>"
      ],
      "text/plain": [
       "         source        isbn                                 title  \\\n",
       "count     33971       33971                                 33971   \n",
       "unique      894        1265                                  9255   \n",
       "top     a1books  0321263588  computer networking and the internet   \n",
       "freq       2403         159                                   108   \n",
       "\n",
       "               authors  \n",
       "count            33228  \n",
       "unique            8603  \n",
       "top     meyers, scott   \n",
       "freq               128  "
      ]
     },
     "execution_count": 8,
     "metadata": {},
     "output_type": "execute_result"
    }
   ],
   "source": [
    "df.describe()"
   ]
  },
  {
   "cell_type": "code",
   "execution_count": 9,
   "metadata": {},
   "outputs": [
    {
     "data": {
      "text/html": [
       "<div>\n",
       "<style scoped>\n",
       "    .dataframe tbody tr th:only-of-type {\n",
       "        vertical-align: middle;\n",
       "    }\n",
       "\n",
       "    .dataframe tbody tr th {\n",
       "        vertical-align: top;\n",
       "    }\n",
       "\n",
       "    .dataframe thead th {\n",
       "        text-align: right;\n",
       "    }\n",
       "</style>\n",
       "<table border=\"1\" class=\"dataframe\">\n",
       "  <thead>\n",
       "    <tr style=\"text-align: right;\">\n",
       "      <th></th>\n",
       "      <th>source</th>\n",
       "      <th>isbn</th>\n",
       "      <th>title</th>\n",
       "      <th>authors</th>\n",
       "    </tr>\n",
       "  </thead>\n",
       "  <tbody>\n",
       "  </tbody>\n",
       "</table>\n",
       "</div>"
      ],
      "text/plain": [
       "Empty DataFrame\n",
       "Columns: [source, isbn, title, authors]\n",
       "Index: []"
      ]
     },
     "execution_count": 9,
     "metadata": {},
     "output_type": "execute_result"
    }
   ],
   "source": [
    "df.loc[(df.title.str.len() < 2)]"
   ]
  }
 ],
 "metadata": {
  "kernelspec": {
   "display_name": "Python 3",
   "language": "python",
   "name": "python3"
  },
  "language_info": {
   "codemirror_mode": {
    "name": "ipython",
    "version": 3
   },
   "file_extension": ".py",
   "mimetype": "text/x-python",
   "name": "python",
   "nbconvert_exporter": "python",
   "pygments_lexer": "ipython3",
   "version": "3.7.6"
  }
 },
 "nbformat": 4,
 "nbformat_minor": 4
}
